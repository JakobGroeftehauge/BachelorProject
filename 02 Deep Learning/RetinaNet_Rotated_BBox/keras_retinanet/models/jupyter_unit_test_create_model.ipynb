{
 "cells": [
  {
   "cell_type": "code",
   "execution_count": null,
   "metadata": {},
   "outputs": [],
   "source": []
  },
  {
   "cell_type": "code",
   "execution_count": 3,
   "metadata": {},
   "outputs": [
    {
     "name": "stdout",
     "output_type": "stream",
     "text": [
      "['C:\\\\Users\\\\Mads\\\\Documents\\\\GitHub\\\\BachelorProject\\\\02 Deep Learning\\\\RetinaNet with Angle\\\\keras_retinanet', 'C:\\\\Users\\\\Mads\\\\Documents\\\\GitHub\\\\BachelorProject\\\\02 Deep Learning\\\\RetinaNet with Angle\\\\keras_retinanet\\\\models', 'c:\\\\users\\\\mads\\\\documents\\\\jupyter\\\\scripts\\\\python37.zip', 'c:\\\\users\\\\mads\\\\appdata\\\\local\\\\programs\\\\python\\\\python37\\\\DLLs', 'c:\\\\users\\\\mads\\\\appdata\\\\local\\\\programs\\\\python\\\\python37\\\\lib', 'c:\\\\users\\\\mads\\\\appdata\\\\local\\\\programs\\\\python\\\\python37', 'c:\\\\users\\\\mads\\\\documents\\\\jupyter', '', 'c:\\\\users\\\\mads\\\\documents\\\\jupyter\\\\lib\\\\site-packages', 'c:\\\\users\\\\mads\\\\documents\\\\jupyter\\\\lib\\\\site-packages\\\\win32', 'c:\\\\users\\\\mads\\\\documents\\\\jupyter\\\\lib\\\\site-packages\\\\win32\\\\lib', 'c:\\\\users\\\\mads\\\\documents\\\\jupyter\\\\lib\\\\site-packages\\\\Pythonwin', 'c:\\\\users\\\\mads\\\\documents\\\\jupyter\\\\lib\\\\site-packages\\\\IPython\\\\extensions', 'C:\\\\Users\\\\Mads\\\\.ipython']\n"
     ]
    },
    {
     "ename": "ModuleNotFoundError",
     "evalue": "No module named 'keras'",
     "output_type": "error",
     "traceback": [
      "\u001b[1;31m-------------------------------------------------------------------------\u001b[0m",
      "\u001b[1;31mModuleNotFoundError\u001b[0m                     Traceback (most recent call last)",
      "\u001b[1;32m<ipython-input-3-99b01ff9e92b>\u001b[0m in \u001b[0;36m<module>\u001b[1;34m\u001b[0m\n\u001b[0;32m      7\u001b[0m \u001b[0mprint\u001b[0m\u001b[1;33m(\u001b[0m\u001b[0msys\u001b[0m\u001b[1;33m.\u001b[0m\u001b[0mpath\u001b[0m\u001b[1;33m)\u001b[0m\u001b[1;33m\u001b[0m\u001b[1;33m\u001b[0m\u001b[0m\n\u001b[0;32m      8\u001b[0m \u001b[1;31m#from preprocessing import generator\u001b[0m\u001b[1;33m\u001b[0m\u001b[1;33m\u001b[0m\u001b[1;33m\u001b[0m\u001b[0m\n\u001b[1;32m----> 9\u001b[1;33m \u001b[1;32mimport\u001b[0m \u001b[0mretinanet\u001b[0m\u001b[1;33m\u001b[0m\u001b[1;33m\u001b[0m\u001b[0m\n\u001b[0m",
      "\u001b[1;32m~\\Documents\\GitHub\\BachelorProject\\02 Deep Learning\\RetinaNet with Angle\\keras_retinanet\\models\\retinanet.py\u001b[0m in \u001b[0;36m<module>\u001b[1;34m\u001b[0m\n\u001b[0;32m     15\u001b[0m \"\"\"\n\u001b[0;32m     16\u001b[0m \u001b[1;33m\u001b[0m\u001b[0m\n\u001b[1;32m---> 17\u001b[1;33m \u001b[1;32mimport\u001b[0m \u001b[0mkeras\u001b[0m\u001b[1;33m\u001b[0m\u001b[1;33m\u001b[0m\u001b[0m\n\u001b[0m\u001b[0;32m     18\u001b[0m \u001b[1;32mfrom\u001b[0m \u001b[1;33m.\u001b[0m\u001b[1;33m.\u001b[0m \u001b[1;32mimport\u001b[0m \u001b[0minitializers\u001b[0m\u001b[1;33m\u001b[0m\u001b[1;33m\u001b[0m\u001b[0m\n\u001b[0;32m     19\u001b[0m \u001b[1;32mfrom\u001b[0m \u001b[1;33m.\u001b[0m\u001b[1;33m.\u001b[0m \u001b[1;32mimport\u001b[0m \u001b[0mlayers\u001b[0m\u001b[1;33m\u001b[0m\u001b[1;33m\u001b[0m\u001b[0m\n",
      "\u001b[1;31mModuleNotFoundError\u001b[0m: No module named 'keras'"
     ]
    }
   ],
   "source": [
    "import argparse\n",
    "import os\n",
    "import sys\n",
    "import warnings\n",
    "import csv\n",
    "#sys.path.insert(0, os.path.abspath('../'))\n",
    "print(sys.path)\n",
    "#from preprocessing import generator\n",
    "import retinanet"
   ]
  },
  {
   "cell_type": "code",
   "execution_count": null,
   "metadata": {},
   "outputs": [],
   "source": []
  }
 ],
 "metadata": {
  "kernelspec": {
   "display_name": "Python 3",
   "language": "python",
   "name": "python3"
  },
  "language_info": {
   "codemirror_mode": {
    "name": "ipython",
    "version": 3
   },
   "file_extension": ".py",
   "mimetype": "text/x-python",
   "name": "python",
   "nbconvert_exporter": "python",
   "pygments_lexer": "ipython3",
   "version": "3.7.6"
  }
 },
 "nbformat": 4,
 "nbformat_minor": 4
}
