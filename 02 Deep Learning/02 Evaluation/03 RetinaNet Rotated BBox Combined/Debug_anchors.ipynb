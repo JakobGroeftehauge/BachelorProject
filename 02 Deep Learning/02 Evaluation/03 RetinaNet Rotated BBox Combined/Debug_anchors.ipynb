{
 "cells": [
  {
   "cell_type": "code",
   "execution_count": 1,
   "metadata": {},
   "outputs": [],
   "source": [
    "%matplotlib inline\n",
    "\n",
    "#import pandas as pd\n",
    "import matplotlib\n",
    "import matplotlib.pyplot as plt\n",
    "import numpy as np\n",
    "from numpy import genfromtxt"
   ]
  },
  {
   "cell_type": "code",
   "execution_count": 2,
   "metadata": {},
   "outputs": [],
   "source": [
    "#define parameters\n",
    "steps = 20\n",
    "epochs = 25\n",
    "batch_size = 8\n",
    "\n",
    "#--config \"config.ini\" \\"
   ]
  },
  {
   "cell_type": "code",
   "execution_count": 3,
   "metadata": {
    "scrolled": false
   },
   "outputs": [
    {
     "name": "stderr",
     "output_type": "stream",
     "text": [
      "2020-05-01 12:47:33.052950: W tensorflow/stream_executor/platform/default/dso_loader.cc:55] Could not load dynamic library 'cudart64_101.dll'; dlerror: cudart64_101.dll not found\n",
      "2020-05-01 12:47:33.053432: I tensorflow/stream_executor/cuda/cudart_stub.cc:29] Ignore above cudart dlerror if you do not have a GPU set up on your machine.\n",
      "Using TensorFlow backend.\n",
      "Traceback (most recent call last):\n",
      "  File \"../../RetinaNet_Rotated_Comb/keras_retinanet/bin/debug.py\", line 322, in <module>\n",
      "    main()\n",
      "  File \"../../RetinaNet_Rotated_Comb/keras_retinanet/bin/debug.py\", line 318, in main\n",
      "    run(generator, args, anchor_params=anchor_params)\n",
      "  File \"../../RetinaNet_Rotated_Comb/keras_retinanet/bin/debug.py\", line 210, in run\n",
      "    image, annotations = generator.random_transform_group_entry(image, annotations)\n",
      "  File \"../../RetinaNet_Rotated_Comb/keras_retinanet/bin\\..\\..\\keras_retinanet\\preprocessing\\generator.py\", line 239, in random_transform_group_entry\n",
      "    transform = adjust_transform_for_image(next(self.transform_generator), image, self.transform_parameters.relative_translation)\n",
      "  File \"../../RetinaNet_Rotated_Comb/keras_retinanet/bin\\..\\..\\keras_retinanet\\utils\\transform.py\", line 339, in random_transform_generator\n",
      "    yield random_transform(prng=prng, **kwargs)\n",
      "  File \"../../RetinaNet_Rotated_Comb/keras_retinanet/bin\\..\\..\\keras_retinanet\\utils\\transform.py\", line 295, in random_transform\n",
      "    random_translation(min_translation, max_translation, prng),\n",
      "  File \"../../RetinaNet_Rotated_Comb/keras_retinanet/bin\\..\\..\\keras_retinanet\\utils\\transform.py\", line 169, in random_translation\n",
      "    return translation(_random_vector(min, max, prng))\n",
      "  File \"../../RetinaNet_Rotated_Comb/keras_retinanet/bin\\..\\..\\keras_retinanet\\utils\\transform.py\", line 116, in _random_vector\n",
      "    assert len(min.shape) == 1\n",
      "AssertionError\n"
     ]
    }
   ],
   "source": [
    "!python \"../../RetinaNet_Rotated_Comb/keras_retinanet/bin/debug.py\" \\\n",
    "--annotations --random-transform --anchors\\\n",
    "csv \"../OP_train_set_14-04.csv\" \"../classes.csv\" "
   ]
  },
  {
   "cell_type": "code",
   "execution_count": null,
   "metadata": {},
   "outputs": [],
   "source": []
  },
  {
   "cell_type": "code",
   "execution_count": null,
   "metadata": {},
   "outputs": [],
   "source": []
  }
 ],
 "metadata": {
  "kernelspec": {
   "display_name": "Python 3",
   "language": "python",
   "name": "python3"
  },
  "language_info": {
   "codemirror_mode": {
    "name": "ipython",
    "version": 3
   },
   "file_extension": ".py",
   "mimetype": "text/x-python",
   "name": "python",
   "nbconvert_exporter": "python",
   "pygments_lexer": "ipython3",
   "version": "3.7.6"
  }
 },
 "nbformat": 4,
 "nbformat_minor": 4
}
