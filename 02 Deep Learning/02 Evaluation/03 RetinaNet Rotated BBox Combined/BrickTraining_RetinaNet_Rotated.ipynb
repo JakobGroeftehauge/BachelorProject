{
 "cells": [
  {
   "cell_type": "code",
   "execution_count": 1,
   "metadata": {},
   "outputs": [],
   "source": [
    "%matplotlib inline\n",
    "\n",
    "import matplotlib\n",
    "import matplotlib.pyplot as plt\n",
    "import numpy as np\n",
    "from numpy import genfromtxt"
   ]
  },
  {
   "cell_type": "code",
   "execution_count": 2,
   "metadata": {},
   "outputs": [],
   "source": [
    "#define parameters\n",
    "steps = 20\n",
    "epochs = 25\n",
    "batch_size = 8"
   ]
  },
  {
   "cell_type": "code",
   "execution_count": null,
   "metadata": {
    "scrolled": true
   },
   "outputs": [],
   "source": [
    "!python \"../../RetinaNet_Rotated_Comb/keras_retinanet/bin/train.py\" --steps 396 --epochs 25 \\\n",
    "--weights \"../../RetinaNet_Rotated_Comb/keras_retinanet/resnet50_coco_best_v2.1.0.h5\" \\\n",
    "--snapshot-path \"./02 On Pallet Dataset/01 Snapshots\" \\\n",
    "--batch-size 1 \\\n",
    "--compute-val-loss\\\n",
    "csv \"../OP_train_set_14-04.csv\" \"../classes.csv\" \\\n",
    "--val-annotations \"../OP_val_set_14-04.csv\""
   ]
  },
  {
   "cell_type": "code",
   "execution_count": null,
   "metadata": {},
   "outputs": [],
   "source": []
  }
 ],
 "metadata": {
  "kernelspec": {
   "display_name": "Python 3",
   "language": "python",
   "name": "python3"
  },
  "language_info": {
   "codemirror_mode": {
    "name": "ipython",
    "version": 3
   },
   "file_extension": ".py",
   "mimetype": "text/x-python",
   "name": "python",
   "nbconvert_exporter": "python",
   "pygments_lexer": "ipython3",
   "version": "3.7.6"
  }
 },
 "nbformat": 4,
 "nbformat_minor": 4
}
