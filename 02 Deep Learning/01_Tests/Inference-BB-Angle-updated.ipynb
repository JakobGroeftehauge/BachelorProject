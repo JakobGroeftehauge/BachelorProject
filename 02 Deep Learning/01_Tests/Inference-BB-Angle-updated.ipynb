{
 "cells": [
  {
   "cell_type": "markdown",
   "metadata": {},
   "source": [
    "# Inference - Bounding Box and Angle \n",
    "\n",
    "## Script Setup "
   ]
  },
  {
   "cell_type": "code",
   "execution_count": 1,
   "metadata": {},
   "outputs": [],
   "source": [
    "# File Location - list of all images to evaluate. Should only contain the name of the file, not the relative/global path. \n",
    "#file_location = '../../Create-CSV-dataset/list_of_img_in_val_set_18-03.csv'\n",
    "file_location = 'list_of_img_in_val_set_18-03.csv'\n",
    "\n",
    "# TODO: implement visualization, and storing of predicted bboxes and angles. \n",
    "place_to_store_results = 'Evaluations/'\n",
    "\n",
    "# Relative path to the folder where the image files specified in \"file_location\" is stored \n",
    "path_img_folder = '../../03 Data/Simple Dataset/'\n",
    "\n",
    "# TODO implement different angle input\n",
    "# 0 - regular angle (radians)\n",
    "# 1 - vector half (Right half plane only), \n",
    "# 2 - vector full (Full unit circle) \n",
    "angle_representation = 2\n",
    "\n",
    "# Defines the IOU threshold which is tested below. The stepsize used is 0.05. \n",
    "IOU_threshold_range = [0.5, 0.95]\n",
    "\n",
    "# The threshold for how confident the classification network should before a bounding box is accepted. \n",
    "accept_BB_threshold = 0.5"
   ]
  },
  {
   "cell_type": "markdown",
   "metadata": {},
   "source": [
    "## Import Packages and Libraries"
   ]
  },
  {
   "cell_type": "code",
   "execution_count": 2,
   "metadata": {},
   "outputs": [
    {
     "name": "stderr",
     "output_type": "stream",
     "text": [
      "Using TensorFlow backend.\n"
     ]
    },
    {
     "name": "stdout",
     "output_type": "stream",
     "text": [
      "1 Physical GPUs, 1 Logical GPUs\n"
     ]
    }
   ],
   "source": [
    "# show images inline\n",
    "%matplotlib inline\n",
    "\n",
    "# automatically reload modules when they have changed\n",
    "%load_ext autoreload\n",
    "%autoreload 2\n",
    "\n",
    "# import keras\n",
    "import keras\n",
    "\n",
    "# import keras_retinanet\n",
    "from keras_retinanet import models\n",
    "from keras_retinanet.utils.image import read_image_bgr, preprocess_image, resize_image\n",
    "from keras_retinanet.utils.visualization import draw_box, draw_caption\n",
    "from keras_retinanet.utils.colors import label_color\n",
    "from keras_retinanet.utils.gpu import setup_gpu\n",
    "\n",
    "# import miscellaneous modules\n",
    "import matplotlib.pyplot as plt\n",
    "import cv2\n",
    "import os\n",
    "import numpy as np\n",
    "from numpy import genfromtxt\n",
    "import time\n",
    "import json\n",
    "import copy\n",
    "\n",
    "#NOTICE: enable when using paperspace server!!\n",
    "setup_gpu(0)  "
   ]
  },
  {
   "cell_type": "markdown",
   "metadata": {},
   "source": [
    "## Functions\n",
    "### Utility"
   ]
  },
  {
   "cell_type": "code",
   "execution_count": 3,
   "metadata": {},
   "outputs": [],
   "source": [
    "def area(BB):\n",
    "    width = abs(BB[0] - BB[2])\n",
    "    height = abs(BB[1] - BB[3])\n",
    "    return height * width\n",
    "\n",
    "def intersection(BB1, BB2):\n",
    "    \n",
    "    (x1, y1, x2, y2) = BB1\n",
    "    (x3, y3, x4, y4) = BB2\n",
    "    \n",
    "    # Check if no intersection exists\n",
    "    if x1 > x4 or x3 > x2 or y3 > y2 or y1 > y4:\n",
    "        return 0\n",
    "    \n",
    "    # Find coordinates of intersection\n",
    "    x5 = max(x1, x3);\n",
    "    y5 = max(y1, y3);\n",
    "    x6 = min(x2, x4);\n",
    "    y6 = min(y2, y4);  \n",
    "    BB = (x5, y5, x6, y6)\n",
    " \n",
    "    return area(BB)\n",
    "    \n",
    "def union(BB1, BB2): \n",
    "    return area(BB1) + area(BB2) - intersection(BB1, BB2)\n",
    "\n",
    "\n",
    "def count_vals(array, value):\n",
    "    count = 0\n",
    "    \n",
    "    for val in array: \n",
    "        if val == value:\n",
    "            count += 1\n",
    "    return count\n",
    "\n",
    "def format_angle(angle, test):\n",
    "    formatted_angles = []\n",
    "    if test == 2:\n",
    "        return np.arctan2(angle[1],angle[0])/2\n",
    "    elif test == 1:\n",
    "        return np.arctan2(angle[1],angle[0])\n",
    "    elif test == 0:\n",
    "        return angle\n",
    "    \n",
    "\n",
    "\n",
    "def convert_rect_to_point(rect):\n",
    "    x = rect[0]\n",
    "    y = rect[1]\n",
    "    w = rect[2]\n",
    "    h = rect[3]\n",
    "    x1 = x\n",
    "    y1 = y\n",
    "    x2 = x + w\n",
    "    y2 = y + h\n",
    "    \n",
    "    return (x1, y1, x2, y2)"
   ]
  },
  {
   "cell_type": "markdown",
   "metadata": {},
   "source": [
    "### Bounding Box and Angle Evaluations"
   ]
  },
  {
   "cell_type": "code",
   "execution_count": 4,
   "metadata": {},
   "outputs": [],
   "source": [
    "def calculate_metrics_bbox(true_positive, false_negatives, false_positive):\n",
    "    recall = true_positive / (true_positive + false_negatives)\n",
    "    precision = true_positive / (true_positive + false_positive)\n",
    "    f1 = 2 * (precision * recall) / (precision + recall) \n",
    "\n",
    "    return recall, precision, f1\n",
    "\n",
    "def filter_predictions(bboxes, scores, labels, angles, score_threshold):\n",
    "    filtered_bboxes = []\n",
    "    filtered_scores = []\n",
    "    filtered_labels = []\n",
    "    filtered_angles = []\n",
    "    \n",
    "    for bbox, score, label, angle in zip(bboxes, scores, labels, angles):\n",
    "        if score < score_threshold: \n",
    "            break\n",
    "            \n",
    "        filtered_bboxes.append(bbox)\n",
    "        filtered_scores.append(score)\n",
    "        filtered_labels.append(label)\n",
    "        filtered_angles.append(format_angle(angle, angle_representation))\n",
    "\n",
    "    return filtered_bboxes, filtered_scores, filtered_labels, filtered_angles\n",
    "\n",
    "def match_preds_with_annotations(bbox_annotations, bbox_predictions, IOU_threshold):\n",
    "    # match_index_annotations - \n",
    "    # match_index_predictions - \n",
    "\n",
    "    # Initialize index vectors with -1, which indicates no match has been found.  \n",
    "    match_index_annotations = [-1 for x in range(len(bbox_annotations))]; \n",
    "    match_index_predictions =  [-1 for x in range(len(bbox_predictions))]; \n",
    "    \n",
    "    for idx, annotation in enumerate(bbox_annotations): \n",
    "        max_IOU = 0\n",
    "        for i in range(len(bbox_predictions)):\n",
    "            \n",
    "             # check if current prediction is contained in annotation \n",
    "            if(i not in match_index_annotations):\n",
    "                \n",
    "                if intersection(annotation, bbox_predictions[i]) > 0: #convert_rect_to_point only for tests\n",
    "                    IOU = intersection(annotation, bbox_predictions[i])/union(annotation, bbox_predictions[i])\n",
    "\n",
    "                    if(IOU > max_IOU):\n",
    "                        max_IOU_index = i\n",
    "                        max_IOU = IOU\n",
    "                        \n",
    "        if max_IOU > IOU_threshold:\n",
    "            match_index_annotations[idx] = max_IOU_index\n",
    "            match_index_predictions[max_IOU_index] = idx\n",
    "    \n",
    "    return match_index_annotations, match_index_predictions\n",
    "\n",
    "\n",
    "def evaluate_bounding_boxes(match_index_annotations, match_index_predictions):\n",
    "    \n",
    "    false_negatives = count_vals(match_index_annotations, -1)\n",
    "    true_positive = len(match_index_annotations) - false_negatives\n",
    "    false_positive = count_vals(match_index_predictions, -1)\n",
    "\n",
    "    return true_positive, false_negatives, false_positive\n",
    "\n",
    "\n",
    "def error_angles(match_index_predictions, angle_annotations, angle_predictions):\n",
    "    # Caluclates the error between the predicted and annotated angle  \n",
    "    error_list = []\n",
    "   \n",
    "    for idx_pred, idx_anno in enumerate(match_index_predictions):\n",
    "        if idx_anno != -1:\n",
    "            error_list.append(min([angle_predictions[idx_pred] - angle_annotations[idx_anno],\n",
    "                 angle_predictions[idx_pred] - angle_annotations[idx_anno] + np.pi, \n",
    "                 angle_predictions[idx_pred] - angle_annotations[idx_anno] - np.pi], key=abs))\n",
    "            \n",
    "            \n",
    "    return error_list\n",
    "\n",
    "def calculate_mse(error_list):\n",
    "    squared_list = []\n",
    "    \n",
    "    # Flatten error list \n",
    "    flattened_error = [val for sublist in error_list for val in sublist]\n",
    "    \n",
    "    for error in flattened_error: \n",
    "        squared_list.append(error**2)\n",
    "        \n",
    "    mse = sum(squared_list) / len(squared_list)\n",
    "    \n",
    "    return mse\n"
   ]
  },
  {
   "cell_type": "markdown",
   "metadata": {},
   "source": [
    "### File Handling"
   ]
  },
  {
   "cell_type": "code",
   "execution_count": 5,
   "metadata": {},
   "outputs": [],
   "source": [
    "def read_annotations(image_path):\n",
    "\n",
    "    with open('..' + image_path.strip('.png') + '.json') as json_file:\n",
    "        \n",
    "        data = json.load(json_file)\n",
    "        shapes_list = data['shapes']\n",
    "        bbox_list = []\n",
    "        labels_list = []\n",
    "        angle_list = []\n",
    "        \n",
    "        for bbox in shapes_list: \n",
    "            rect = cv2.boundingRect(np.float32(bbox['points']))\n",
    "            bbox_list.append(convert_rect_to_point(rect))\n",
    "            labels_list.append(0)\n",
    "            rot_rect = cv2.minAreaRect(np.float32(bbox['points']))\n",
    "            if rot_rect[-2][0] < rot_rect[-2][1]:\n",
    "                rot_rect = (rot_rect[0],(rot_rect[-2][1],rot_rect[-2][0]),rot_rect[-1]+90)\n",
    "            # make sure that no angle is above 90 or below -90\n",
    "            if rot_rect[-1] > 90:\n",
    "                rot_rect = (rot_rect[0],rot_rect[1],rot_rect[-1]-180)\n",
    "            if rot_rect[-1] < -90:\n",
    "                rot_rect = (rot_rect[0],rot_rect[1],rot_rect[-1]+180)\n",
    "            angle_list.append(rot_rect[-1]/180*np.pi)            \n",
    "    \n",
    "    return bbox_list, labels_list, angle_list\n",
    "\n",
    "def import_rows_from_csv(csv_path):\n",
    "    file = open(csv_path)\n",
    "    row_list = []\n",
    "    \n",
    "    for row in file: \n",
    "        row_list.append(row.strip('\\n'))\n",
    "    \n",
    "    return row_list"
   ]
  },
  {
   "cell_type": "markdown",
   "metadata": {},
   "source": [
    "### Visualisation"
   ]
  },
  {
   "cell_type": "code",
   "execution_count": 6,
   "metadata": {},
   "outputs": [],
   "source": [
    "def draw_predictions():\n",
    "    return"
   ]
  },
  {
   "cell_type": "markdown",
   "metadata": {},
   "source": [
    "## Load Model - Convert to Inference Model "
   ]
  },
  {
   "cell_type": "code",
   "execution_count": 7,
   "metadata": {},
   "outputs": [],
   "source": [
    "%%capture\n",
    "\n",
    "# import model\n",
    "model_path = os.path.join('snapshots', 'resnet50_csv_35.h5');\n",
    "model = models.load_model(model_path, backbone_name='resnet50');\n",
    "\n",
    "# If model is not converted to inference model, use line below: \n",
    "model = models.convert_model(model);\n",
    "\n",
    "# Mapping of model output and classes\n",
    "labels_to_names = {0: 'Brick'};"
   ]
  },
  {
   "cell_type": "markdown",
   "metadata": {},
   "source": [
    "## Evaluate Bounding Boxes (TODO: and Angles)"
   ]
  },
  {
   "cell_type": "code",
   "execution_count": 8,
   "metadata": {
    "scrolled": true
   },
   "outputs": [
    {
     "name": "stdout",
     "output_type": "stream",
     "text": [
      "IOU Threshold: 0.50 MSE: 0.001684365055286\n",
      "IOU Threshold: 0.55 MSE: 0.001689010651765\n",
      "IOU Threshold: 0.60 MSE: 0.001680631778363\n",
      "IOU Threshold: 0.65 MSE: 0.001680631778363\n",
      "IOU Threshold: 0.70 MSE: 0.001658999486667\n",
      "IOU Threshold: 0.75 MSE: 0.001643832305864\n",
      "IOU Threshold: 0.80 MSE: 0.001607183771443\n",
      "IOU Threshold: 0.85 MSE: 0.001587151758313\n",
      "IOU Threshold: 0.90 MSE: 0.001568905831922\n",
      "IOU Threshold: 0.95 MSE: 0.001337069131314\n"
     ]
    }
   ],
   "source": [
    "# Import paths of all images to evaluate\n",
    "file_list = import_rows_from_csv(file_location)\n",
    "#file_list = file_list[-2:-1]\n",
    "\n",
    "IOU_thres = np.arange(IOU_threshold_range[0], IOU_threshold_range[1] + 0.05, 0.05).tolist()\n",
    "recall_list = []\n",
    "precision_list = []\n",
    "f1_list = []\n",
    "\n",
    "annotations = []\n",
    "predictions = []\n",
    "\n",
    "# Load predictions and annotations, store on the list annotations and predictions. Each entry represents an image. \n",
    "for file in file_list: \n",
    "    # Import image, preprocess and resize as specified in the Keras Retinanet implementation\n",
    "    image = read_image_bgr(path_img_folder + file)\n",
    "    image = preprocess_image(image)\n",
    "    image, scale = resize_image(image)\n",
    "    \n",
    "    # Get prediction on current image \n",
    "    boxes, scores, labels, angles = model.predict_on_batch(np.expand_dims(image, axis=0))\n",
    "    boxes /= scale\n",
    "    boxes, scores, labels, angles = filter_predictions(boxes[0], scores[0], labels[0], angles[0], accept_BB_threshold)\n",
    "    predictions.append([boxes, scores, labels, angles])\n",
    "    \n",
    "    # Load Annotation for curret image \n",
    "    boxes, label, angles = read_annotations(path_img_folder + file)\n",
    "    annotations.append([boxes, labels, angles])\n",
    "\n",
    "#print(\"annotations: \", annotations)\n",
    "#print(\"predictions: \",predictions)\n",
    "# Evaluate Average Precision of predicions\n",
    "# http://cocodataset.org/#detection-leaderboard - (AP at IoU=.50:.05:.95)\n",
    "for IOU_threshold in IOU_thres:\n",
    "    \n",
    "    total_true_pos  = 0 \n",
    "    total_false_neg = 0\n",
    "    total_false_pos = 0\n",
    "    angle_error_list = []\n",
    "    \n",
    "    for annotation, prediction in zip(annotations, predictions):\n",
    "        \n",
    "        boxes_pred, scores_pred, labels_pred, angles_pred = prediction\n",
    "        boxes_anno, labels_anno, angles_anno = annotation\n",
    "        \n",
    "        # Match prediction with Annotations and visa vice\n",
    "        match_annotations, match_predictions = match_preds_with_annotations(boxes_anno, boxes_pred, IOU_threshold)\n",
    "        \n",
    "        #print(\"match annotation: \", match_annotations, \"match prediction: \", match_predictions )\n",
    "        \n",
    "        true_pos, false_neg, false_pos = evaluate_bounding_boxes(match_annotations, match_predictions)\n",
    "        \n",
    "        angle_error_list.append(error_angles(match_predictions, angles_anno, angles_pred))\n",
    "        \n",
    "        total_true_pos  += true_pos\n",
    "        total_false_neg += false_neg\n",
    "        total_false_pos += false_pos\n",
    "        \n",
    "    mse = calculate_mse(angle_error_list)\n",
    "    print(\"IOU Threshold: %.2f MSE: %.15f\" % (IOU_threshold, mse))\n",
    "    #print(\"IOU Threshold: \", IOU_threshold, \"   MSE: \", mse)\n",
    "    recall, precision, f1 = calculate_metrics_bbox(total_true_pos, total_false_neg, total_false_pos)\n",
    "    recall_list.append(recall)\n",
    "    precision_list.append(precision)\n",
    "    f1_list.append(f1)"
   ]
  },
  {
   "cell_type": "markdown",
   "metadata": {},
   "source": [
    "## Results \n",
    "\n",
    "### Average precision for bouding box predictions"
   ]
  },
  {
   "cell_type": "code",
   "execution_count": 9,
   "metadata": {},
   "outputs": [
    {
     "name": "stdout",
     "output_type": "stream",
     "text": [
      "Avg. precision: 0.8401188707280831\n",
      "Avg. recall:    0.8834375\n",
      "Avg. F1:        0.8612338156892612\n"
     ]
    },
    {
     "data": {
      "image/png": "[encoded data removed]",
      "text/plain": [
       "<Figure size 800x600 with 1 Axes>"
      ]
     },
     "metadata": {
      "needs_background": "light"
     },
     "output_type": "display_data"
    }
   ],
   "source": [
    "plt.figure(figsize=(4, 3), dpi=200)\n",
    "plt.plot(IOU_thres, precision_list)\n",
    "plt.plot(IOU_thres, recall_list)\n",
    "plt.plot(IOU_thres, f1_list)\n",
    "plt.legend(['Precision', 'Recall', 'F1'])\n",
    "plt.title('AP score, RetinaNet, Validation set')\n",
    "plt.ylabel('Score')\n",
    "plt.xlabel('IOU Threshold')\n",
    "\n",
    "\n",
    "average_precision = np.average(precision_list)\n",
    "average_recall = np.average(recall_list)\n",
    "average_f1 = np.average(f1_list)\n",
    "\n",
    "print('Avg. precision:', average_precision)\n",
    "print('Avg. recall:   ', average_recall)\n",
    "print('Avg. F1:       ', average_f1)"
   ]
  },
  {
   "cell_type": "code",
   "execution_count": 10,
   "metadata": {},
   "outputs": [
    {
     "name": "stdout",
     "output_type": "stream",
     "text": [
      "Precision:  [0.9420505200594353, 0.9420505200594353, 0.9420505200594353, 0.9420505200594353, 0.9346210995542348, 0.9286775631500743, 0.9212481426448736, 0.888558692421991, 0.7132243684992571, 0.24665676077265974]\n",
      "Recall:  [0.990625, 0.990625, 0.990625, 0.990625, 0.9828125, 0.9765625, 0.96875, 0.934375, 0.75, 0.259375]\n",
      "f1_list:  [0.9657273419649658, 0.9657273419649658, 0.9657273419649658, 0.9657273419649658, 0.9581111957349582, 0.952018278750952, 0.9444021325209444, 0.9108910891089109, 0.7311500380807311, 0.2528560548362529]\n"
     ]
    }
   ],
   "source": [
    "print(\"Precision: \", precision_list)\n",
    "print(\"Recall: \", recall_list)\n",
    "print(\"f1_list: \", f1_list)"
   ]
  },
  {
   "cell_type": "code",
   "execution_count": null,
   "metadata": {},
   "outputs": [],
   "source": []
  }
 ],
 "metadata": {
  "kernelspec": {
   "display_name": "Python 3",
   "language": "python",
   "name": "python3"
  },
  "language_info": {
   "codemirror_mode": {
    "name": "ipython",
    "version": 3
   },
   "file_extension": ".py",
   "mimetype": "text/x-python",
   "name": "python",
   "nbconvert_exporter": "python",
   "pygments_lexer": "ipython3",
   "version": "3.6.9"
  }
 },
 "nbformat": 4,
 "nbformat_minor": 4
}
