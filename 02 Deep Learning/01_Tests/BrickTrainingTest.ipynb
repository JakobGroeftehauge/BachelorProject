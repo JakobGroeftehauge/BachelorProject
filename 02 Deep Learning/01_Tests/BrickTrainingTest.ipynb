{
 "cells": [
  {
   "cell_type": "code",
   "execution_count": null,
   "metadata": {},
   "outputs": [],
   "source": [
    "#%matplotlib inline\n",
    "\n",
    "import pandas as pd\n",
    "import matplotlib\n",
    "import matplotlib.pyplot as plt\n",
    "import numpy as np\n",
    "from numpy import genfromtxt"
   ]
  },
  {
   "cell_type": "code",
   "execution_count": null,
   "metadata": {},
   "outputs": [],
   "source": [
    "#define parameters\n",
    "steps = 20\n",
    "epochs = 25\n",
    "batch_size = 8"
   ]
  },
  {
   "cell_type": "code",
   "execution_count": null,
   "metadata": {},
   "outputs": [],
   "source": [
    "!python \"../RetinaNet with Angle/keras_retinanet/bin/train.py\" --steps 162 --epochs 1 \\\n",
    "--weights \"../RetinaNet with Angle/keras_retinanet/resnet50_coco_best_v2.1.0.h5\" \\\n",
    "--batch-size 1 \\\n",
    "--compute-val-loss\\\n",
    "csv train_set_18-03.csv classes.csv \\\n",
    "--val-annotations val_set_18-03.csv "
   ]
  },
  {
   "cell_type": "code",
   "execution_count": null,
   "metadata": {},
   "outputs": [],
   "source": [
    "!python ../keras-retinanet/keras_retinanet/bin/train.py --steps 162 --epochs 35 --snapshot-path ../keras-retinanet/snapshots \\\n",
    "--weights ../keras-retinanet/snapshots/resnet50_coco_best_v2.1.0.h5 \\\n",
    "--batch-size 1 \\\n",
    "--compute-val-loss\\\n",
    "csv train_set_03-03.csv classes.csv \\\n",
    "--val-annotations val_set_03-03.csv "
   ]
  },
  {
   "cell_type": "code",
   "execution_count": null,
   "metadata": {},
   "outputs": [],
   "source": [
    "!python ../keras-retinanet/keras_retinanet/bin/train.py --steps 162 --epochs 50 --snapshot-path ../keras-retinanet/snapshots \\\n",
    "--snapshot ../keras-retinanet/snapshots/resnet50_csv_25.h5 \\\n",
    "--initial-epoch 25 \\\n",
    "--no-resize --batch-size 1 \\\n",
    "--compute-val-loss\\\n",
    "csv train_set_03-03.csv classes.csv \\\n",
    "--val-annotations val_set_03-03.csv "
   ]
  },
  {
   "cell_type": "code",
   "execution_count": null,
   "metadata": {},
   "outputs": [],
   "source": [
    "loss_data = genfromtxt('val_train_set_03-03_losses.csv', delimiter=',')\n",
    "loss_data = loss_data.T\n",
    "print(loss_data)"
   ]
  },
  {
   "cell_type": "code",
   "execution_count": null,
   "metadata": {},
   "outputs": [],
   "source": [
    "plt.figure(figsize=(4, 3), dpi=200)\n",
    "plt.plot(range(1, 1 + len(loss_data[0])), loss_data[0])\n",
    "plt.plot(range(1, 1 + len(loss_data[1])), loss_data[1])\n",
    "plt.legend(['Train Loss','Validation Loss'])\n",
    "plt.title('Steps: 162, BS: 1, BB: renet50-coco, resized')\n",
    "plt.xlabel('Epochs')\n",
    "plt.ylabel('Loss')\n",
    "plt.savefig('./val_train_set_03-03_losses_resize.png',bbox_inches='tight')"
   ]
  },
  {
   "cell_type": "code",
   "execution_count": null,
   "metadata": {},
   "outputs": [],
   "source": []
  }
 ],
 "metadata": {
  "kernelspec": {
   "display_name": "Python 3",
   "language": "python",
   "name": "python3"
  },
  "language_info": {
   "codemirror_mode": {
    "name": "ipython",
    "version": 3
   },
   "file_extension": ".py",
   "mimetype": "text/x-python",
   "name": "python",
   "nbconvert_exporter": "python",
   "pygments_lexer": "ipython3",
   "version": "3.7.6"
  }
 },
 "nbformat": 4,
 "nbformat_minor": 4
}
