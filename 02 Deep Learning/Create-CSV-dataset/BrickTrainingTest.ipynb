{
 "cells": [
  {
   "cell_type": "code",
   "execution_count": 2,
   "metadata": {},
   "outputs": [
    {
     "ename": "ModuleNotFoundError",
     "evalue": "No module named 'pandas'",
     "output_type": "error",
     "traceback": [
      "\u001b[1;31m---------------------------------------------------------------------------\u001b[0m",
      "\u001b[1;31mModuleNotFoundError\u001b[0m                       Traceback (most recent call last)",
      "\u001b[1;32m<ipython-input-2-52baa7f86db4>\u001b[0m in \u001b[0;36m<module>\u001b[1;34m\u001b[0m\n\u001b[0;32m      1\u001b[0m \u001b[1;31m#%matplotlib inline\u001b[0m\u001b[1;33m\u001b[0m\u001b[1;33m\u001b[0m\u001b[1;33m\u001b[0m\u001b[0m\n\u001b[0;32m      2\u001b[0m \u001b[1;33m\u001b[0m\u001b[0m\n\u001b[1;32m----> 3\u001b[1;33m \u001b[1;32mimport\u001b[0m \u001b[0mpandas\u001b[0m \u001b[1;32mas\u001b[0m \u001b[0mpd\u001b[0m\u001b[1;33m\u001b[0m\u001b[1;33m\u001b[0m\u001b[0m\n\u001b[0m\u001b[0;32m      4\u001b[0m \u001b[1;32mimport\u001b[0m \u001b[0mmatplotlib\u001b[0m\u001b[1;33m\u001b[0m\u001b[1;33m\u001b[0m\u001b[0m\n\u001b[0;32m      5\u001b[0m \u001b[1;32mimport\u001b[0m \u001b[0mmatplotlib\u001b[0m\u001b[1;33m.\u001b[0m\u001b[0mpyplot\u001b[0m \u001b[1;32mas\u001b[0m \u001b[0mplt\u001b[0m\u001b[1;33m\u001b[0m\u001b[1;33m\u001b[0m\u001b[0m\n",
      "\u001b[1;31mModuleNotFoundError\u001b[0m: No module named 'pandas'"
     ]
    }
   ],
   "source": [
    "#%matplotlib inline\n",
    "\n",
    "import pandas as pd\n",
    "import matplotlib\n",
    "import matplotlib.pyplot as plt\n",
    "import numpy as np\n",
    "from numpy import genfromtxt"
   ]
  },
  {
   "cell_type": "code",
   "execution_count": null,
   "metadata": {},
   "outputs": [],
   "source": [
    "#define parameters\n",
    "steps = 20\n",
    "epochs = 25\n",
    "batch_size = 8"
   ]
  },
  {
   "cell_type": "code",
   "execution_count": null,
   "metadata": {},
   "outputs": [],
   "source": [
    "!python \"../RetinaNet with Angle/keras_retinanet/bin/train.py\" --steps 2 --epochs 2 \\\n",
    "--weights \"../RetinaNet with Angle/keras_retinanet/resnet50_coco_best_v2.1.0.h5\" \\\n",
    "--batch-size 1 \\\n",
    "--compute-val-loss\\\n",
    "csv train_set_12-03.csv classes.csv \\\n",
    "--val-annotations val_set_12-03.csv "
   ]
  },
  {
   "cell_type": "code",
   "execution_count": null,
   "metadata": {},
   "outputs": [],
   "source": [
    "!python ../keras-retinanet/keras_retinanet/bin/train.py --steps 162 --epochs 35 --snapshot-path ../keras-retinanet/snapshots \\\n",
    "--weights ../keras-retinanet/snapshots/resnet50_coco_best_v2.1.0.h5 \\\n",
    "--batch-size 1 \\\n",
    "--compute-val-loss\\\n",
    "csv train_set_03-03.csv classes.csv \\\n",
    "--val-annotations val_set_03-03.csv "
   ]
  },
  {
   "cell_type": "code",
   "execution_count": null,
   "metadata": {},
   "outputs": [],
   "source": [
    "!python ../keras-retinanet/keras_retinanet/bin/train.py --steps 162 --epochs 50 --snapshot-path ../keras-retinanet/snapshots \\\n",
    "--snapshot ../keras-retinanet/snapshots/resnet50_csv_25.h5 \\\n",
    "--initial-epoch 25 \\\n",
    "--no-resize --batch-size 1 \\\n",
    "--compute-val-loss\\\n",
    "csv train_set_03-03.csv classes.csv \\\n",
    "--val-annotations val_set_03-03.csv "
   ]
  },
  {
   "cell_type": "code",
   "execution_count": null,
   "metadata": {},
   "outputs": [],
   "source": [
    "loss_data = genfromtxt('val_train_set_03-03_losses.csv', delimiter=',')\n",
    "loss_data = loss_data.T\n",
    "print(loss_data)"
   ]
  },
  {
   "cell_type": "code",
   "execution_count": null,
   "metadata": {},
   "outputs": [],
   "source": [
    "plt.figure(figsize=(4, 3), dpi=200)\n",
    "plt.plot(range(1, 1 + len(loss_data[0])), loss_data[0])\n",
    "plt.plot(range(1, 1 + len(loss_data[1])), loss_data[1])\n",
    "plt.legend(['Train Loss','Validation Loss'])\n",
    "plt.title('Steps: 162, BS: 1, BB: renet50-coco, resized')\n",
    "plt.xlabel('Epochs')\n",
    "plt.ylabel('Loss')\n",
    "plt.savefig('./val_train_set_03-03_losses_resize.png',bbox_inches='tight')"
   ]
  },
  {
   "cell_type": "code",
   "execution_count": null,
   "metadata": {},
   "outputs": [],
   "source": []
  }
 ],
 "metadata": {
  "kernelspec": {
   "display_name": "Python 3",
   "language": "python",
   "name": "python3"
  },
  "language_info": {
   "codemirror_mode": {
    "name": "ipython",
    "version": 3
   },
   "file_extension": ".py",
   "mimetype": "text/x-python",
   "name": "python",
   "nbconvert_exporter": "python",
   "pygments_lexer": "ipython3",
   "version": "3.6.9"
  }
 },
 "nbformat": 4,
 "nbformat_minor": 4
}
