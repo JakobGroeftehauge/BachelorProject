{
 "cells": [
  {
   "cell_type": "markdown",
   "metadata": {},
   "source": [
    "# Convert LabelMe Annotation to CSV-dataset"
   ]
  },
  {
   "cell_type": "code",
   "execution_count": 2,
   "metadata": {},
   "outputs": [],
   "source": [
    "import json\n",
    "import cv2 as cv\n",
    "import numpy as np\n",
    "import csv\n",
    "import os\n",
    "from os import walk\n",
    "import random\n",
    "from datetime import datetime"
   ]
  },
  {
   "cell_type": "code",
   "execution_count": 9,
   "metadata": {},
   "outputs": [
    {
     "name": "stdout",
     "output_type": "stream",
     "text": [
      "['colorIMG_15.json', 'colorIMG_11.json', 'colorIMG_19.json', 'colorIMG_101.json', 'colorIMG_75.json', 'colorIMG_30.json', 'colorIMG_178.json', 'colorIMG_100.json', 'colorIMG_185.json', 'colorIMG_79.json', 'colorIMG_52.json', 'colorIMG_182.json', 'colorIMG_42.json', 'colorIMG_189.json', 'colorIMG_162.json', 'colorIMG_12.json', 'colorIMG_27.json', 'colorIMG_145.json', 'colorIMG_96.json', 'colorIMG_107.json', 'colorIMG_194.json', 'colorIMG_60.json', 'colorIMG_128.json', 'colorIMG_86.json', 'colorIMG_40.json', 'colorIMG_105.json', 'colorIMG_36.json', 'colorIMG_62.json', 'colorIMG_133.json', 'colorIMG_6.json', 'colorIMG_103.json', 'colorIMG_70.json', 'colorIMG_135.json', 'colorIMG_61.json', 'colorIMG_26.json', 'colorIMG_193.json', 'colorIMG_146.json', 'colorIMG_35.json', 'colorIMG_138.json', 'colorIMG_142.json']\n",
      "['colorIMG_8.json', 'colorIMG_196.json', 'colorIMG_114.json', 'colorIMG_130.json', 'colorIMG_21.json', 'colorIMG_31.json', 'colorIMG_144.json', 'colorIMG_65.json', 'colorIMG_156.json', 'colorIMG_123.json', 'colorIMG_63.json', 'colorIMG_95.json', 'colorIMG_99.json', 'colorIMG_72.json', 'colorIMG_109.json', 'colorIMG_87.json', 'colorIMG_13.json', 'colorIMG_16.json', 'colorIMG_148.json', 'colorIMG_175.json', 'colorIMG_43.json', 'colorIMG_168.json', 'colorIMG_73.json', 'colorIMG_104.json', 'colorIMG_190.json', 'colorIMG_124.json', 'colorIMG_177.json', 'colorIMG_38.json', 'colorIMG_143.json', 'colorIMG_37.json', 'colorIMG_41.json', 'colorIMG_121.json', 'colorIMG_91.json', 'colorIMG_3.json', 'colorIMG_195.json', 'colorIMG_82.json', 'colorIMG_48.json', 'colorIMG_166.json', 'colorIMG_69.json', 'colorIMG_49.json', 'colorIMG_18.json', 'colorIMG_161.json', 'colorIMG_71.json', 'colorIMG_9.json', 'colorIMG_149.json', 'colorIMG_76.json', 'colorIMG_93.json', 'colorIMG_39.json', 'colorIMG_84.json', 'colorIMG_139.json', 'colorIMG_29.json', 'colorIMG_141.json', 'colorIMG_116.json', 'colorIMG_188.json', 'colorIMG_171.json', 'colorIMG_106.json', 'colorIMG_46.json', 'colorIMG_0.json', 'colorIMG_180.json', 'colorIMG_112.json', 'colorIMG_110.json', 'colorIMG_97.json', 'colorIMG_1.json', 'colorIMG_28.json', 'colorIMG_66.json', 'colorIMG_23.json', 'colorIMG_113.json', 'colorIMG_33.json', 'colorIMG_155.json', 'colorIMG_167.json', 'colorIMG_120.json', 'colorIMG_51.json', 'colorIMG_134.json', 'colorIMG_85.json', 'colorIMG_90.json', 'colorIMG_67.json', 'colorIMG_78.json', 'colorIMG_126.json', 'colorIMG_191.json', 'colorIMG_54.json', 'colorIMG_173.json', 'colorIMG_45.json', 'colorIMG_179.json', 'colorIMG_192.json', 'colorIMG_44.json', 'colorIMG_74.json', 'colorIMG_88.json', 'colorIMG_199.json', 'colorIMG_160.json', 'colorIMG_163.json', 'colorIMG_98.json', 'colorIMG_92.json', 'colorIMG_10.json', 'colorIMG_140.json', 'colorIMG_137.json', 'colorIMG_20.json', 'colorIMG_136.json', 'colorIMG_17.json', 'colorIMG_150.json', 'colorIMG_158.json', 'colorIMG_68.json', 'colorIMG_122.json', 'colorIMG_50.json', 'colorIMG_131.json', 'colorIMG_83.json', 'colorIMG_197.json', 'colorIMG_174.json', 'colorIMG_108.json', 'colorIMG_181.json', 'colorIMG_164.json', 'colorIMG_56.json', 'colorIMG_2.json', 'colorIMG_59.json', 'colorIMG_80.json', 'colorIMG_201.json', 'colorIMG_159.json', 'colorIMG_153.json', 'colorIMG_151.json', 'colorIMG_34.json', 'colorIMG_58.json', 'colorIMG_157.json', 'colorIMG_127.json', 'colorIMG_183.json', 'colorIMG_117.json', 'colorIMG_22.json', 'colorIMG_89.json', 'colorIMG_172.json', 'colorIMG_187.json', 'colorIMG_47.json', 'colorIMG_119.json', 'colorIMG_25.json', 'colorIMG_176.json', 'colorIMG_165.json', 'colorIMG_32.json', 'colorIMG_198.json', 'colorIMG_186.json', 'colorIMG_81.json', 'colorIMG_132.json', 'colorIMG_24.json', 'colorIMG_115.json', 'colorIMG_4.json', 'colorIMG_152.json', 'colorIMG_102.json', 'colorIMG_53.json', 'colorIMG_77.json', 'colorIMG_184.json', 'colorIMG_7.json', 'colorIMG_147.json', 'colorIMG_5.json', 'colorIMG_55.json', 'colorIMG_125.json', 'colorIMG_64.json', 'colorIMG_57.json', 'colorIMG_200.json', 'colorIMG_14.json', 'colorIMG_111.json', 'colorIMG_170.json', 'colorIMG_169.json', 'colorIMG_118.json', 'colorIMG_94.json', 'colorIMG_154.json', 'colorIMG_129.json']\n",
      "202\n",
      "40\n",
      "162\n"
     ]
    }
   ],
   "source": [
    "# Path the the folder containing the image annotations\n",
    "path = '../../03 Data/Simple Dataset/'\n",
    "#path = '../../03 Data/Single_Image/'\n",
    "validation_percent = 0.2\n",
    "\n",
    "#print(os.listdir(path))\n",
    "\n",
    "all_files = os.listdir(path)\n",
    "\n",
    "file_names = []\n",
    "for file in all_files: \n",
    "    if file[-5:]  == '.json':\n",
    "        file_names.append(file)\n",
    "    \n",
    "#print(file_names)\n",
    "random.shuffle(file_names)\n",
    "num_files = len(file_names)\n",
    "\n",
    "#val_files = file_names[0:int(num_files*validation_percent)]\n",
    "#train_files = file_names[int(num_files*validation_percent):]\n",
    "\n",
    "val_file = open('list_of_img_in_val_set_12-03.csv')\n",
    "val_files = list(val_file)\n",
    "val_file.close()\n",
    "for i, img in enumerate(val_files):\n",
    "    val_files[i] = img.strip('.png\\n')+'.json'\n",
    "\n",
    "train_file = open('list_of_img_in_train_set_12-03.csv')\n",
    "train_files = list(train_file)\n",
    "train_file.close()\n",
    "for i, img in enumerate(train_files):\n",
    "    train_files[i] = img.strip('.png\\n')+'.json'\n",
    "\n",
    "\n",
    "print(val_files)\n",
    "print(train_files)\n",
    "\n",
    "print(len(file_names))\n",
    "print(len(val_files))\n",
    "print(len(train_files))\n",
    "\n",
    "now = datetime.now()\n",
    "date = now.strftime(\"%d-%m\")\n",
    "\n",
    "names = ['train_set_'+date+'.csv', 'val_set_'+date+'.csv']\n",
    "combined_files = [train_files, val_files]\n",
    "\n",
    "# create csv of train-set and val-set for feeding to the network\n",
    "for i in range(len(names)):\n",
    "    with open(names[i], 'w', newline='') as open_file:\n",
    "        writer = csv.writer(open_file, delimiter=',', quotechar='|', quoting=csv.QUOTE_MINIMAL)\n",
    "        with open('list_of_img_in_'+names[i], 'w') as f:\n",
    "            for file in combined_files[i]:\n",
    "                with open(path + file) as json_file:\n",
    "                    data = json.load(json_file)\n",
    "                    image_name = data['imagePath']\n",
    "                    f.write(\"%s\\n\" % image_name)\n",
    "                        # check if image contains annotations.\n",
    "                    if len(data['shapes']) != 0:\n",
    "                        for annotation in data['shapes']:\n",
    "                                rot_rect = cv.minAreaRect(np.float32(annotation['points']))\n",
    "                                bp = cv.boxPoints(rot_rect) # bp = box points\n",
    "                                #p1 = [rot_rect[0]+]\n",
    "                                # make sure that width and height are consistent\n",
    "                                if rot_rect[-2][0] < rot_rect[-2][1]:\n",
    "                                    rot_rect = (rot_rect[0],(rot_rect[-2][1],rot_rect[-2][0]),rot_rect[-1]+90)\n",
    "                                # make sure that no angle is above 90 or below -90\n",
    "                                if rot_rect[-1] > 90:\n",
    "                                    rot_rect = (rot_rect[0],rot_rect[1],rot_rect[-1]-180)\n",
    "                                if rot_rect[-1] < -90:\n",
    "                                    rot_rect = (rot_rect[0],rot_rect[1],rot_rect[-1]+180)\n",
    "                                class_name = annotation['label']\n",
    "                                writer.writerow([path + image_name, bp[0][0], bp[0][1], bp[1][0], bp[1][1],\n",
    "                                                 bp[2][0], bp[2][1], bp[3][0], bp[3][1], class_name,rot_rect[-1]])\n",
    "                                # format: img_path, p1x, p1y, p2x, p2y, p3x, p3y, p4x, p4y, class_name, angle\n",
    "                    else:\n",
    "                        writer.writerow([path + image_name, \",,,,,,,,,,\"])\n",
    "       "
   ]
  },
  {
   "cell_type": "code",
   "execution_count": null,
   "metadata": {},
   "outputs": [],
   "source": []
  }
 ],
 "metadata": {
  "kernelspec": {
   "display_name": "Python 3",
   "language": "python",
   "name": "python3"
  },
  "language_info": {
   "codemirror_mode": {
    "name": "ipython",
    "version": 3
   },
   "file_extension": ".py",
   "mimetype": "text/x-python",
   "name": "python",
   "nbconvert_exporter": "python",
   "pygments_lexer": "ipython3",
   "version": "3.6.9"
  }
 },
 "nbformat": 4,
 "nbformat_minor": 4
}
