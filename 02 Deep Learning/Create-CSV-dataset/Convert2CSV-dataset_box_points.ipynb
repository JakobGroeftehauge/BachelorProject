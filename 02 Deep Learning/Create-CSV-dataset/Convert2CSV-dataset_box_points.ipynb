{
 "cells": [
  {
   "cell_type": "markdown",
   "metadata": {},
   "source": [
    "# Convert LabelMe Annotation to CSV-dataset"
   ]
  },
  {
   "cell_type": "code",
   "execution_count": 1,
   "metadata": {},
   "outputs": [],
   "source": [
    "import json\n",
    "import cv2 as cv\n",
    "import numpy as np\n",
    "import csv\n",
    "import os\n",
    "from os import walk\n",
    "import random\n",
    "from datetime import datetime"
   ]
  },
  {
   "cell_type": "code",
   "execution_count": 2,
   "metadata": {},
   "outputs": [
    {
     "name": "stdout",
     "output_type": "stream",
     "text": [
      "1\n",
      "0\n",
      "1\n"
     ]
    }
   ],
   "source": [
    "# Path the the folder containing the image annotations\n",
    "#path = '../../03 Data/Simple Dataset/'\n",
    "path = '../../03 Data/Single_Image/'\n",
    "validation_percent = 0.2\n",
    "\n",
    "#print(os.listdir(path))\n",
    "\n",
    "all_files = os.listdir(path)\n",
    "\n",
    "file_names = []\n",
    "for file in all_files: \n",
    "    if file[-5:]  == '.json':\n",
    "        file_names.append(file)\n",
    "    \n",
    "#print(file_names)\n",
    "random.shuffle(file_names)\n",
    "num_files = len(file_names)\n",
    "\n",
    "val_files = file_names[0:int(num_files*validation_percent)]\n",
    "train_files = file_names[int(num_files*validation_percent):]\n",
    "\n",
    "print(len(file_names))\n",
    "print(len(val_files))\n",
    "print(len(train_files))\n",
    "\n",
    "now = datetime.now()\n",
    "date = now.strftime(\"%d-%m\")\n",
    "\n",
    "names = ['train_set_'+date+'.csv', 'val_set_'+date+'.csv']\n",
    "combined_files = [train_files, val_files]\n",
    "\n",
    "# create csv of train-set and val-set for feeding to the network\n",
    "for i in range(len(names)):\n",
    "    with open(names[i], 'w', newline='') as open_file:\n",
    "        writer = csv.writer(open_file, delimiter=',', quotechar='|', quoting=csv.QUOTE_MINIMAL)\n",
    "        with open('list_of_img_in_'+names[i], 'w') as f:\n",
    "            for file in combined_files[i]:\n",
    "                with open(path + file) as json_file:\n",
    "                    data = json.load(json_file)\n",
    "                    image_name = data['imagePath']\n",
    "                    f.write(\"%s\\n\" % image_name)\n",
    "                        # check if image contains annotations.\n",
    "                    if len(data['shapes']) != 0:\n",
    "                        for annotation in data['shapes']:\n",
    "                                rot_rect = cv.minAreaRect(np.float32(annotation['points']))\n",
    "                                bp = cv.boxPoints(rot_rect) # bp = box points\n",
    "                                #p1 = [rot_rect[0]+]\n",
    "                                # make sure that width and height are consistent\n",
    "                                if rot_rect[-2][0] < rot_rect[-2][1]:\n",
    "                                    rot_rect = (rot_rect[0],(rot_rect[-2][1],rot_rect[-2][0]),rot_rect[-1]+90)\n",
    "                                # make sure that no angle is above 90 or below -90\n",
    "                                if rot_rect[-1] > 90:\n",
    "                                    rot_rect = (rot_rect[0],rot_rect[1],rot_rect[-1]-180)\n",
    "                                if rot_rect[-1] < -90:\n",
    "                                    rot_rect = (rot_rect[0],rot_rect[1],rot_rect[-1]+180)\n",
    "                                class_name = annotation['label']\n",
    "                                writer.writerow([path + image_name, bp[0][0], bp[0][1], bp[1][0], bp[1][1],\n",
    "                                                 bp[2][0], bp[2][1], bp[3][0], bp[3][1], class_name,rot_rect[-1]])\n",
    "                                # format: img_path, p1x, p1y, p2x, p2y, p3x, p3y, p4x, p4y, class_name, angle\n",
    "                    else:\n",
    "                        writer.writerow([path + image_name, \",,,,,,,,,,\"])\n",
    "       "
   ]
  },
  {
   "cell_type": "code",
   "execution_count": null,
   "metadata": {},
   "outputs": [],
   "source": []
  }
 ],
 "metadata": {
  "kernelspec": {
   "display_name": "Python 3",
   "language": "python",
   "name": "python3"
  },
  "language_info": {
   "codemirror_mode": {
    "name": "ipython",
    "version": 3
   },
   "file_extension": ".py",
   "mimetype": "text/x-python",
   "name": "python",
   "nbconvert_exporter": "python",
   "pygments_lexer": "ipython3",
   "version": "3.7.6"
  }
 },
 "nbformat": 4,
 "nbformat_minor": 4
}
