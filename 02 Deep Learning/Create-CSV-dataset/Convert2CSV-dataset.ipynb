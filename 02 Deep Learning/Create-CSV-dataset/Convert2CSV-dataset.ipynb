{
 "cells": [
  {
   "cell_type": "markdown",
   "metadata": {},
   "source": [
    "# Convert LabelMe Annotaiton to CSV-dataset"
   ]
  },
  {
   "cell_type": "code",
   "execution_count": 7,
   "metadata": {},
   "outputs": [],
   "source": [
    "import json\n",
    "import cv2 as cv\n",
    "import numpy as np\n",
    "import csv\n",
    "import os\n",
    "from os import walk\n",
    "import random"
   ]
  },
  {
   "cell_type": "code",
   "execution_count": 17,
   "metadata": {},
   "outputs": [
    {
     "name": "stdout",
     "output_type": "stream",
     "text": [
      "202\n"
     ]
    }
   ],
   "source": [
    "# Path the the folder containing the image annotations\n",
    "path = '/home/paperspace/HPM/data/Simple Dataset'\n",
    "validation_percent = 0.2\n",
    "\n",
    "#print(os.listdir(path))\n",
    "\n",
    "all_files = os.listdir(path)\n",
    "\n",
    "file_names = []\n",
    "for file in all_files: \n",
    "    if file[-5:]  == '.json':\n",
    "        file_names.append(file)\n",
    "    \n",
    "#print(file_names)\n",
    "random.shuffle(file_names)\n",
    "#print(file_names)\n",
    "\n",
    "print(len(file_names))\n",
    "\n",
    "\n",
    "with open('train_set.csv', 'w', newline='') as train_file:\n",
    "    with open('val_set.csv', 'w', newline='') as val_file:\n",
    "        train_writer = csv.writer(train_file, delimiter=',', quotechar='|', quoting=csv.QUOTE_MINIMAL)\n",
    "        val_writer =     csv.writer(val_file, delimiter=',', quotechar='|', quoting=csv.QUOTE_MINIMAL)\n",
    "        for i in range(len(file_names)):\n",
    "            with open(path + \"/\" + file_names[i]) as json_file:\n",
    "                data = json.load(json_file)\n",
    "                image_name = data['imagePath']\n",
    "                # check if image contains annotations.\n",
    "                if len(data['shapes']) != 0:\n",
    "                    for annotation in data['shapes']:\n",
    "                            rect = cv.boundingRect(np.float32(annotation['points']))\n",
    "                            P1x = str(rect[0])\n",
    "                            P1y = str(rect[1])\n",
    "                            P2x = str(rect[0] + rect[2])\n",
    "                            P2y = str(rect[1] + rect[3])\n",
    "                            class_name = annotation['label']\n",
    "                            if i < int(len(file_names)*validation_percent):\n",
    "                                val_writer.writerow([path + \"/\" + image_name, P1x, P1y, P2x, P2y, class_name])\n",
    "                            else:\n",
    "                                train_writer.writerow([path + \"/\" + image_name, P1x, P1y, P2x, P2y, class_name])\n",
    "                                \n",
    "                elif i < int(len(file_names)*validation_percent):\n",
    "                    val_writer.writerow([path + \"/\" + image_name + \",,,,,\"])\n",
    "                else:\n",
    "                    train_writer.writerow([path + \"/\" + image_name + \",,,,,\"])\n",
    "                \n",
    "    \n",
    "\n",
    "\n",
    "#file_names = []\n",
    "#for (dir_path, dir_names, file_names) in walk(path):\n",
    "#        for file in file_names:\n",
    "#            if file[-5:] == '.json':\n",
    "#                file_names.append(file)  # \"test_json.json\"\n",
    "\n",
    "#print(file_names)\n",
    "# Create and open csv file for storing all annotations\n",
    "#with open('annotation.csv', 'w', newline='') as csv_file:\n",
    " #   file_writer = csv.writer(csv_file, delimiter=',', quotechar='|', quoting=csv.QUOTE_MINIMAL)\n",
    "  #  for (dir_path, dir_names, file_names) in walk(path):\n",
    "   #     for file in file_names:\n",
    "    #        if file[-5:] == '.json':\n",
    "     #           file_name = file   # \"test_json.json\"\n",
    "      #          with open(path + \"/\" + file_name) as json_file:\n",
    "       #             data = json.load(json_file)\n",
    "        #            image_name = data['imagePath']\n",
    "\n",
    "                    # check if image contains annotations.\n",
    "         #           if len(data['shapes']) != 0:\n",
    "          #              for annotation in data['shapes']:\n",
    "           #                 rect = cv.boundingRect(np.float32(annotation['points']))\n",
    "            #                P1x = str(rect[0])\n",
    "             #               P1y = str(rect[1])\n",
    "              #              P2x = str(rect[0] + rect[2])\n",
    "               #             P2y = str(rect[1] + rect[3])\n",
    "                #            class_name = annotation['label']\n",
    "                 #           file_writer.writerow([path + \"/\" + image_name, P1x, P1y, P2x, P2y, class_name])\n",
    "                  #  else:\n",
    "                   #     file_writer.writerow([path + \"/\" + image_name + \",,,,,\"])\n"
   ]
  },
  {
   "cell_type": "code",
   "execution_count": null,
   "metadata": {},
   "outputs": [],
   "source": []
  }
 ],
 "metadata": {
  "kernelspec": {
   "display_name": "Python 3",
   "language": "python",
   "name": "python3"
  },
  "language_info": {
   "codemirror_mode": {
    "name": "ipython",
    "version": 3
   },
   "file_extension": ".py",
   "mimetype": "text/x-python",
   "name": "python",
   "nbconvert_exporter": "python",
   "pygments_lexer": "ipython3",
   "version": "3.6.9"
  }
 },
 "nbformat": 4,
 "nbformat_minor": 4
}
