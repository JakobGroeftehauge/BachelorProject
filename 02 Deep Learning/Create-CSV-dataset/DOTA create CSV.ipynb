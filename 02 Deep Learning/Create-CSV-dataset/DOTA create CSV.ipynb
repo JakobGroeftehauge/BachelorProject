{
 "cells": [
  {
   "cell_type": "code",
   "execution_count": 1,
   "metadata": {},
   "outputs": [],
   "source": [
    "import cv2 as cv\n",
    "import numpy as np\n",
    "import csv\n",
    "import os\n",
    "from os import walk\n",
    "import random\n",
    "from datetime import datetime"
   ]
  },
  {
   "cell_type": "code",
   "execution_count": 2,
   "metadata": {},
   "outputs": [],
   "source": [
    "folder_path = \"../../03 Data/DOTA_tennis-court/\"\n",
    "training_imgs = \"DOTA_train.txt\"\n",
    "validation_imgs = \"DOTA_val.txt\"\n",
    "\n",
    "train_file = open(folder_path+training_imgs)\n",
    "train_files = list(train_file)\n",
    "train_file.close()\n",
    "for i, img in enumerate(train_files):\n",
    "    train_files[i] = img.strip('.png\\n')+'.txt'\n",
    "\n",
    "val_file = open(folder_path + validation_imgs)\n",
    "val_files = list(val_file)\n",
    "val_file.close()\n",
    "for i, img in enumerate(val_files):\n",
    "    val_files[i] = img.strip('.png\\n')+'.txt'\n",
    "\n"
   ]
  },
  {
   "cell_type": "code",
   "execution_count": 3,
   "metadata": {},
   "outputs": [],
   "source": [
    "now = datetime.now()\n",
    "date = now.strftime(\"%d-%m\")\n",
    "\n",
    "names = ['train_DOTA'+date+'.csv', 'val_DOTA'+date+'.csv']\n",
    "combined_files = [train_files, val_files]\n",
    "wh_list = []\n",
    "# create csv of train-set and val-set for feeding to the network\n",
    "for i in range(len(names)):\n",
    "    with open(names[i], 'w', newline='') as open_file:\n",
    "        writer = csv.writer(open_file, delimiter=',', quotechar='|', quoting=csv.QUOTE_MINIMAL)\n",
    "        with open('list_of_img_in_'+names[i], 'w') as f:\n",
    "            for file in combined_files[i]:\n",
    "                #Create annotation list\n",
    "                train_file = open(folder_path+\"DOTA_Annotations/\"+file)\n",
    "                train_files = list(train_file)\n",
    "                train_file.close()\n",
    "                annotations = [anno.split() for anno in train_files[2:]]\n",
    "                image_name= file.strip('.txt')+'.png'\n",
    "\n",
    "                f.write(\"%s\\n\" % image_name)\n",
    "                    # check if image contains annotations.\n",
    "                if len(annotations) != 0:\n",
    "                    for annotation in annotations:\n",
    "                        if(annotation[8] == 'tennis-court'):\n",
    "                            rot_rect = cv.minAreaRect(np.float32(annotations[1][:8]).reshape(4,2))\n",
    "                            bp = cv.boxPoints(rot_rect) # bp = box points\n",
    "                            #p1 = [rot_rect[0]+]\n",
    "                            # make sure that width and height are consistent\n",
    "                            if rot_rect[-2][0] < rot_rect[-2][1]:\n",
    "                                rot_rect = (rot_rect[0],(rot_rect[-2][1],rot_rect[-2][0]),rot_rect[-1]+90)\n",
    "                            # make sure that no angle is above 90 or below -90\n",
    "                            wh_list.append(list(rot_rect[1]))\n",
    "                            if rot_rect[-1] > 90:\n",
    "                                rot_rect = (rot_rect[0],rot_rect[1],rot_rect[-1]-180)\n",
    "                            if rot_rect[-1] < -90:\n",
    "                                rot_rect = (rot_rect[0],rot_rect[1],rot_rect[-1]+180)\n",
    "                            class_name = annotation[8]\n",
    "                            writer.writerow([folder_path + image_name, bp[0][0], bp[0][1], bp[1][0], bp[1][1],\n",
    "                                             bp[2][0], bp[2][1], bp[3][0], bp[3][1], class_name,rot_rect[-1]])\n",
    "                            # format: img_path, p1x, p1y, p2x, p2y, p3x, p3y, p4x, p4y, class_name, angle\n",
    "                else:\n",
    "                    writer.writerow([path + image_name, \",,,,,,,,,,\"])"
   ]
  },
  {
   "cell_type": "code",
   "execution_count": 31,
   "metadata": {},
   "outputs": [
    {
     "name": "stdout",
     "output_type": "stream",
     "text": [
      "['1464.0', '2131.0', '1472.0', '2133.0', '1470.0', '2145.0', '1462.0', '2143.0']\n",
      "((1467.0, 2138.0), (12.823122024536133, 8.219949722290039), -80.53767395019531)\n"
     ]
    }
   ],
   "source": [
    "train_file = open('P0000.txt')\n",
    "train_files = list(train_file)\n",
    "train_file.close()\n",
    "annotations = [anno.split() for anno in train_files[2:]]\n",
    "print(annotations[1][:8])\n",
    "print(cv.minAreaRect(np.float32(annotations[1][:8]).reshape(4,2)))"
   ]
  },
  {
   "cell_type": "code",
   "execution_count": null,
   "metadata": {},
   "outputs": [],
   "source": []
  }
 ],
 "metadata": {
  "kernelspec": {
   "display_name": "Python 3",
   "language": "python",
   "name": "python3"
  },
  "language_info": {
   "codemirror_mode": {
    "name": "ipython",
    "version": 3
   },
   "file_extension": ".py",
   "mimetype": "text/x-python",
   "name": "python",
   "nbconvert_exporter": "python",
   "pygments_lexer": "ipython3",
   "version": "3.7.6"
  }
 },
 "nbformat": 4,
 "nbformat_minor": 4
}
