{
 "cells": [
  {
   "cell_type": "code",
   "execution_count": 1,
   "metadata": {},
   "outputs": [
    {
     "name": "stdout",
     "output_type": "stream",
     "text": [
      "Num GPUs Available:  1\n"
     ]
    }
   ],
   "source": [
    "import tensorflow as tf\n",
    "from tensorflow import keras\n",
    "from tensorflow.keras import layers\n",
    "import cv2\n",
    "import time\n",
    "import numpy as np\n",
    "\n",
    "print(\"Num GPUs Available: \", len(tf.config.experimental.list_physical_devices('GPU')))"
   ]
  },
  {
   "cell_type": "code",
   "execution_count": null,
   "metadata": {},
   "outputs": [],
   "source": [
    "gpus = tf.config.experimental.list_physical_devices('GPU')\n",
    "if gpus:\n",
    "    # Restrict TensorFlow to only use the first GPU.\n",
    "    try:\n",
    "        # Currently, memory growth needs to be the same across GPUs.\n",
    "        for gpu in gpus:\n",
    "            tf.config.experimental.set_memory_growth(gpu, True)\n",
    "\n",
    "        # Use only the selcted gpu.\n",
    "        tf.config.experimental.set_visible_devices(gpus[int(0)], 'GPU')\n",
    "    except RuntimeError as e:\n",
    "        # Visible devices must be set before GPUs have been initialized.\n",
    "        print(e)"
   ]
  },
  {
   "cell_type": "code",
   "execution_count": 2,
   "metadata": {},
   "outputs": [
    {
     "name": "stdout",
     "output_type": "stream",
     "text": [
      "(1, 720, 1280, 1)\n"
     ]
    }
   ],
   "source": [
    "filter_shape = (206,206, 1, 300)\n",
    "stride = 1\n",
    "\n",
    "img_list_file = '../02 Deep Learning/02 Evaluation/list_of_img_in_OP_val_set_14-04.csv'\n",
    "\n",
    "file = open(img_list_file)\n",
    "file_paths = list(file)\n",
    "\n",
    "file_paths = file_paths[0:1]\n",
    "\n",
    "batch = np.empty([0,720,1280,1])\n",
    "\n",
    "for path in file_paths:\n",
    "    image_name = path.strip('\\n')\n",
    "    image = cv2.imread('../03 Data/Dataset2_onPallet/'+image_name)\n",
    "    image = cv2.cvtColor(image, cv2.COLOR_BGR2GRAY)\n",
    "    image = np.expand_dims(image, axis=(0, 3))\n",
    "    batch = np.concatenate((image,batch),axis=0)\n",
    "print(batch.shape)\n",
    "batch = batch/255"
   ]
  },
  {
   "cell_type": "code",
   "execution_count": null,
   "metadata": {},
   "outputs": [],
   "source": [
    "x = tf.constant(batch, dtype=tf.float32)\n",
    "kernel_in = np.random.rand(206,206, 1, 300)\n",
    "kernel = tf.constant(kernel_in, dtype=tf.float32)\n",
    "\n",
    "total_time = 0\n",
    "with tf.device('/GPU:0'):\n",
    "    start = time.perf_counter()\n",
    "    tf.nn.conv2d(x, kernel, 1, padding='VALID')\n",
    "    end = time.perf_counter()\n",
    "    total_time = end-start\n",
    "print(total_time)"
   ]
  },
  {
   "cell_type": "code",
   "execution_count": 3,
   "metadata": {},
   "outputs": [],
   "source": [
    "model = tf.keras.Sequential([layers.Conv2D(512,256, use_bias=False)])"
   ]
  },
  {
   "cell_type": "code",
   "execution_count": 4,
   "metadata": {},
   "outputs": [
    {
     "name": "stdout",
     "output_type": "stream",
     "text": [
      "21.010955298000226\n",
      "(1, 465, 1025, 512)\n"
     ]
    }
   ],
   "source": [
    "start = time.perf_counter()\n",
    "with tf.device('/GPU:0'):\n",
    "    result = model.predict(batch)\n",
    "end = time.perf_counter()\n",
    "total_time = end-start\n",
    "print(total_time)\n",
    "print(result.shape)"
   ]
  },
  {
   "cell_type": "code",
   "execution_count": null,
   "metadata": {},
   "outputs": [],
   "source": [
    "model(batch, training=False)"
   ]
  },
  {
   "cell_type": "code",
   "execution_count": null,
   "metadata": {},
   "outputs": [],
   "source": []
  }
 ],
 "metadata": {
  "kernelspec": {
   "display_name": "Python 3",
   "language": "python",
   "name": "python3"
  },
  "language_info": {
   "codemirror_mode": {
    "name": "ipython",
    "version": 3
   },
   "file_extension": ".py",
   "mimetype": "text/x-python",
   "name": "python",
   "nbconvert_exporter": "python",
   "pygments_lexer": "ipython3",
   "version": "3.6.9"
  }
 },
 "nbformat": 4,
 "nbformat_minor": 4
}
