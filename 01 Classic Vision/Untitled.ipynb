{
 "cells": [
  {
   "cell_type": "code",
   "execution_count": 1,
   "metadata": {},
   "outputs": [
    {
     "name": "stdout",
     "output_type": "stream",
     "text": [
      "Num GPUs Available:  1\n"
     ]
    }
   ],
   "source": [
    "import tensorflow as tf\n",
    "from tensorflow import keras\n",
    "from tensorflow.keras import layers\n",
    "import cv2\n",
    "import time\n",
    "import numpy as np\n",
    "from matplotlib import image as im\n",
    "\n",
    "print(\"Num GPUs Available: \", len(tf.config.experimental.list_physical_devices('GPU')))"
   ]
  },
  {
   "cell_type": "code",
   "execution_count": 2,
   "metadata": {},
   "outputs": [],
   "source": [
    "gpus = tf.config.experimental.list_physical_devices('GPU')\n",
    "if gpus:\n",
    "    # Restrict TensorFlow to only use the first GPU.\n",
    "    try:\n",
    "        # Currently, memory growth needs to be the same across GPUs.\n",
    "        for gpu in gpus:\n",
    "            tf.config.experimental.set_memory_growth(gpu, True)\n",
    "\n",
    "        # Use only the selcted gpu.\n",
    "        tf.config.experimental.set_visible_devices(gpus[int(0)], 'GPU')\n",
    "    except RuntimeError as e:\n",
    "        # Visible devices must be set before GPUs have been initialized.\n",
    "        print(e)"
   ]
  },
  {
   "cell_type": "code",
   "execution_count": 18,
   "metadata": {},
   "outputs": [
    {
     "name": "stdout",
     "output_type": "stream",
     "text": [
      "(9, 720, 1280, 1)\n"
     ]
    }
   ],
   "source": [
    "img_list_file = '../02 Deep Learning/02 Evaluation/list_of_img_in_OP_val_set_14-04.csv'\n",
    "file = open(img_list_file)\n",
    "file_paths = list(file)\n",
    "file_paths = file_paths[0:1]\n",
    "\n",
    "image_name = file_paths[0].strip('\\n')\n",
    "image = im.imread('../03 Data/Dataset2_onPallet/'+image_name)\n",
    "image = cv2.cvtColor(image, cv2.COLOR_BGR2GRAY)\n",
    "\n",
    "batch = np.array([image, image/2, image/3,image*1.2, image*0.9, image/1.3,image, image/2.1, image/3.5])\n",
    "batch = np.reshape(batch,[9,720,1280,1])\n",
    "print(batch.shape)"
   ]
  },
  {
   "cell_type": "code",
   "execution_count": 19,
   "metadata": {},
   "outputs": [],
   "source": [
    "filters = np.random.rand(206,206,1,300)\n",
    "filters[:,3,:,0] = 0.1\n",
    "filters[3,:,:,1] = 0.1"
   ]
  },
  {
   "cell_type": "code",
   "execution_count": null,
   "metadata": {},
   "outputs": [],
   "source": [
    "#start = tf.timestamp()\n",
    "outputs = tf.nn.conv2d(batch, filters, strides=1, padding='VALID')\n",
    "#end = tf.timestamp()\n",
    "#total_time = end-start\n",
    "#print(total_time)"
   ]
  },
  {
   "cell_type": "code",
   "execution_count": null,
   "metadata": {},
   "outputs": [],
   "source": []
  }
 ],
 "metadata": {
  "kernelspec": {
   "display_name": "Python 3",
   "language": "python",
   "name": "python3"
  },
  "language_info": {
   "codemirror_mode": {
    "name": "ipython",
    "version": 3
   },
   "file_extension": ".py",
   "mimetype": "text/x-python",
   "name": "python",
   "nbconvert_exporter": "python",
   "pygments_lexer": "ipython3",
   "version": "3.6.9"
  }
 },
 "nbformat": 4,
 "nbformat_minor": 4
}
