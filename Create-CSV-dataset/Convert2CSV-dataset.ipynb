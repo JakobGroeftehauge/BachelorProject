{
 "cells": [
  {
   "cell_type": "markdown",
   "metadata": {},
   "source": [
    "# Convert LabelMe Annotaiton to CSV-dataset"
   ]
  },
  {
   "cell_type": "code",
   "execution_count": 5,
   "metadata": {},
   "outputs": [],
   "source": [
    "import json\n",
    "import cv2 as cv\n",
    "import numpy as np\n",
    "import csv\n",
    "import os\n",
    "from os import walk"
   ]
  },
  {
   "cell_type": "code",
   "execution_count": 9,
   "metadata": {},
   "outputs": [
    {
     "name": "stdout",
     "output_type": "stream",
     "text": [
      "['intrinsics_132.csv', 'colorIMG_146.png', 'colorIMG_22.png', 'colorIMG_31.json', 'intrinsics_64.csv', 'depth_68.csv', 'colorIMG_30.png', 'intrinsics_10.csv', 'colorIMG_9.json', 'colorIMG_68.png', 'colorIMG_80.json', 'depth_62.csv', 'intrinsics_44.csv', 'depth_50.csv', 'depth_127.csv', 'depth_113.csv', 'depth_54.csv', 'depth_105.csv', 'intrinsics_13.csv', 'depth_70.csv', 'depth_103.csv', 'depth_38.csv', 'depth_65.csv', 'depth_46.csv', 'depth_139.csv', 'depth_174.csv', 'colorIMG_163.png', 'intrinsics_122.csv', 'intrinsics_23.csv', 'colorIMG_98.json', 'intrinsics_101.csv', 'intrinsics_29.csv', 'colorIMG_133.json', 'depth_69.csv', 'depth_67.csv', 'colorIMG_167.json', 'colorIMG_6.png', 'intrinsics_37.csv', 'depth_77.csv', 'intrinsics_15.csv', 'colorIMG_1.json', 'depth_110.csv', 'colorIMG_148.json', 'colorIMG_162.json', 'intrinsics_197.csv', 'colorIMG_116.png', 'colorIMG_59.png', 'colorIMG_172.json', 'colorIMG_192.json', 'depth_31.csv', 'intrinsics_157.csv', 'intrinsics_171.csv', 'intrinsics_8.csv', 'depth_195.csv', 'colorIMG_108.json', 'intrinsics_7.csv', 'colorIMG_119.json', 'depth_40.csv', 'depth_191.csv', 'depth_133.csv', 'colorIMG_163.json', 'intrinsics_95.csv', 'colorIMG_117.json', 'intrinsics_96.csv', 'colorIMG_59.json', 'colorIMG_69.json', 'colorIMG_106.png', 'intrinsics_82.csv', 'depth_51.csv', 'intrinsics_48.csv', 'depth_138.csv', 'colorIMG_103.png', 'colorIMG_20.png', 'colorIMG_187.json', 'colorIMG_182.json', 'colorIMG_158.json', 'colorIMG_83.png', 'intrinsics_40.csv', 'colorIMG_28.png', 'colorIMG_101.json', 'depth_72.csv', 'intrinsics_167.csv', 'depth_41.csv', 'colorIMG_43.png', 'intrinsics_6.csv', 'intrinsics_43.csv', 'colorIMG_43.json', 'colorIMG_145.json', 'intrinsics_46.csv', 'intrinsics_83.csv', 'intrinsics_55.csv', 'depth_149.csv', 'colorIMG_121.json', 'colorIMG_91.png', 'depth_192.csv', 'depth_14.csv', 'depth_13.csv', 'colorIMG_95.json', 'colorIMG_26.png', 'depth_201.csv', 'depth_88.csv', 'colorIMG_84.json', 'depth_74.csv', 'colorIMG_123.png', 'intrinsics_99.csv', 'intrinsics_191.csv', 'depth_199.csv', 'intrinsics_30.csv', 'intrinsics_98.csv', 'depth_153.csv', 'intrinsics_156.csv', 'depth_101.csv', 'colorIMG_152.json', 'intrinsics_47.csv', 'colorIMG_196.png', 'intrinsics_159.csv', 'colorIMG_157.json', 'colorIMG_156.json', 'depth_37.csv', 'colorIMG_16.json', 'colorIMG_122.png', 'colorIMG_73.json', 'colorIMG_134.png', 'colorIMG_73.png', 'colorIMG_116.json', 'intrinsics_173.csv', 'depth_187.csv', 'depth_0.csv', 'colorIMG_6.json', 'depth_58.csv', 'colorIMG_181.png', 'depth_10.csv', 'colorIMG_178.png', 'intrinsics_5.csv', 'colorIMG_159.png', 'colorIMG_191.png', 'depth_164.csv', 'colorIMG_183.json', 'depth_152.csv', 'colorIMG_17.json', 'intrinsics_164.csv', 'colorIMG_175.png', 'colorIMG_7.png', 'intrinsics_150.csv', 'intrinsics_110.csv', 'colorIMG_80.png', 'colorIMG_40.png', 'intrinsics_102.csv', 'intrinsics_165.csv', 'colorIMG_41.png', 'colorIMG_189.png', 'intrinsics_81.csv', 'colorIMG_27.png', 'colorIMG_61.json', 'intrinsics_177.csv', 'depth_36.csv', 'colorIMG_100.png', 'depth_12.csv', 'colorIMG_42.json', 'intrinsics_196.csv', 'depth_130.csv', 'intrinsics_73.csv', 'depth_26.csv', 'colorIMG_74.png', 'colorIMG_18.png', 'colorIMG_164.png', 'colorIMG_40.json', 'colorIMG_24.json', 'colorIMG_85.json', 'colorIMG_194.png', 'colorIMG_0.png', 'colorIMG_153.json', 'colorIMG_93.json', 'colorIMG_191.json', 'intrinsics_116.csv', 'colorIMG_155.json', 'colorIMG_49.png', 'depth_137.csv', 'intrinsics_143.csv', 'colorIMG_78.png', 'colorIMG_79.json', 'intrinsics_121.csv', 'colorIMG_132.png', 'colorIMG_66.json', 'depth_177.csv', 'depth_32.csv', 'intrinsics_187.csv', 'intrinsics_36.csv', 'colorIMG_50.json', 'colorIMG_195.json', 'depth_66.csv', 'colorIMG_188.png', 'intrinsics_20.csv', 'depth_131.csv', 'colorIMG_147.json', 'colorIMG_92.json', 'depth_79.csv', 'intrinsics_3.csv', 'colorIMG_70.json', 'colorIMG_104.json', 'intrinsics_126.csv', 'depth_155.csv', 'intrinsics_107.csv', 'intrinsics_12.csv', 'intrinsics_45.csv', 'depth_115.csv', 'colorIMG_93.png', 'intrinsics_60.csv', 'intrinsics_138.csv', 'depth_190.csv', 'intrinsics_111.csv', 'depth_8.csv', 'colorIMG_200.png', 'intrinsics_124.csv', 'depth_117.csv', 'colorIMG_172.png', 'colorIMG_23.png', 'intrinsics_184.csv', 'colorIMG_129.json', 'depth_148.csv', 'intrinsics_114.csv', 'depth_43.csv', 'colorIMG_151.json', 'colorIMG_51.png', 'depth_99.csv', 'colorIMG_129.png', 'colorIMG_119.png', 'colorIMG_35.json', 'intrinsics_144.csv', 'intrinsics_123.csv', 'colorIMG_113.png', 'colorIMG_41.json', 'colorIMG_162.png', 'colorIMG_61.png', 'colorIMG_71.json', 'depth_129.csv', 'intrinsics_79.csv', 'colorIMG_39.json', 'depth_114.csv', 'colorIMG_144.png', 'colorIMG_31.png', 'depth_34.csv', 'intrinsics_112.csv', 'colorIMG_27.json', 'depth_102.csv', 'colorIMG_79.png', 'intrinsics_127.csv', 'colorIMG_71.png', 'depth_184.csv', 'colorIMG_47.png', 'colorIMG_15.json', 'colorIMG_154.png', 'intrinsics_108.csv', 'colorIMG_158.png', 'colorIMG_21.png', 'colorIMG_29.json', 'intrinsics_120.csv', 'colorIMG_103.json', 'colorIMG_178.json', 'colorIMG_53.png', 'depth_29.csv', 'colorIMG_33.png', 'intrinsics_158.csv', 'colorIMG_126.json', 'intrinsics_93.csv', 'depth_90.csv', 'colorIMG_126.png', 'colorIMG_145.png', 'intrinsics_117.csv', 'colorIMG_193.png', 'intrinsics_57.csv', 'colorIMG_38.json', 'depth_9.csv', 'colorIMG_138.png', 'colorIMG_168.json', 'depth_21.csv', 'depth_80.csv', 'colorIMG_88.json', 'colorIMG_110.json', 'depth_39.csv', 'colorIMG_180.json', 'depth_171.csv', 'colorIMG_25.json', 'colorIMG_56.json', 'intrinsics_65.csv', 'colorIMG_185.json', 'colorIMG_201.png', 'intrinsics_148.csv', 'depth_85.csv', 'colorIMG_197.json', 'colorIMG_170.json', 'depth_97.csv', 'intrinsics_145.csv', 'depth_166.csv', 'depth_87.csv', 'colorIMG_45.json', 'colorIMG_78.json', 'colorIMG_105.json', 'intrinsics_67.csv', 'intrinsics_25.csv', 'colorIMG_60.json', 'colorIMG_127.json', 'colorIMG_3.png', 'colorIMG_5.json', 'colorIMG_64.png', 'intrinsics_136.csv', 'colorIMG_118.json', 'depth_163.csv', 'depth_84.csv', 'depth_141.csv', 'colorIMG_138.json', 'colorIMG_192.png', 'colorIMG_19.json', 'depth_45.csv', 'colorIMG_125.png', 'colorIMG_44.png', 'colorIMG_150.png', 'colorIMG_184.png', 'colorIMG_179.png', 'colorIMG_141.json', 'intrinsics_87.csv', 'depth_63.csv', 'intrinsics_139.csv', 'colorIMG_16.png', 'depth_82.csv', 'depth_160.csv', 'colorIMG_199.json', 'colorIMG_57.png', 'intrinsics_28.csv', 'colorIMG_177.json', 'colorIMG_179.json', 'intrinsics_52.csv', 'colorIMG_195.png', 'intrinsics_91.csv', 'intrinsics_66.csv', 'colorIMG_100.json', 'depth_7.csv', 'intrinsics_146.csv', 'colorIMG_91.json', 'colorIMG_17.png', 'colorIMG_189.json', 'depth_167.csv', 'depth_91.csv', 'colorIMG_120.png', 'colorIMG_55.png', 'depth_20.csv', 'colorIMG_64.json', 'intrinsics_188.csv', 'intrinsics_160.csv', 'depth_161.csv', 'depth_93.csv', 'intrinsics_32.csv', 'colorIMG_186.json', 'colorIMG_39.png', 'colorIMG_175.json', 'intrinsics_78.csv', 'colorIMG_102.json', 'intrinsics_75.csv', 'depth_186.csv', 'intrinsics_1.csv', 'colorIMG_108.png', 'intrinsics_109.csv', 'depth_124.csv', 'intrinsics_22.csv', 'depth_78.csv', 'colorIMG_45.png', 'colorIMG_11.json', 'colorIMG_147.png', 'depth_42.csv', 'depth_100.csv', 'colorIMG_15.png', 'intrinsics_153.csv', 'colorIMG_72.json', 'colorIMG_130.png', 'colorIMG_8.json', 'intrinsics_70.csv', 'intrinsics_39.csv', 'colorIMG_1.png', 'colorIMG_10.png', 'colorIMG_122.json', 'depth_157.csv', 'colorIMG_154.json', 'colorIMG_65.png', 'colorIMG_63.json', 'intrinsics_33.csv', 'colorIMG_12.json', 'colorIMG_22.json', 'colorIMG_54.png', 'colorIMG_8.png', 'depth_44.csv', 'depth_193.csv', 'colorIMG_114.png', 'colorIMG_26.json', 'intrinsics_152.csv', 'colorIMG_67.png', 'depth_61.csv', 'intrinsics_71.csv', 'colorIMG_99.png', 'colorIMG_135.png', 'colorIMG_184.json', 'colorIMG_164.json', 'colorIMG_114.json', 'colorIMG_130.json', 'depth_196.csv', 'colorIMG_173.json', 'intrinsics_190.csv', 'colorIMG_7.json', 'depth_140.csv', 'depth_168.csv', 'colorIMG_127.png', 'intrinsics_129.csv', 'depth_81.csv', 'colorIMG_177.png', 'depth_4.csv', 'intrinsics_56.csv', 'colorIMG_141.png', 'intrinsics_104.csv', 'depth_6.csv', 'colorIMG_107.json', 'colorIMG_171.png', 'colorIMG_111.json', 'depth_144.csv', 'colorIMG_0.json', 'colorIMG_60.png', 'depth_106.csv', 'colorIMG_112.png', 'depth_48.csv', 'colorIMG_171.json', 'intrinsics_178.csv', 'intrinsics_85.csv', 'colorIMG_4.json', 'evaluations', 'intrinsics_133.csv', 'intrinsics_42.csv', 'colorIMG_89.png', 'colorIMG_32.json', 'intrinsics_74.csv', 'colorIMG_86.json', 'colorIMG_196.json', 'depth_1.csv', 'depth_53.csv', 'colorIMG_70.png', 'depth_176.csv', 'colorIMG_82.png', 'colorIMG_176.json', 'colorIMG_44.json', 'colorIMG_197.png', 'colorIMG_156.png', 'colorIMG_136.json', 'colorIMG_160.json', 'colorIMG_63.png', 'colorIMG_198.png', 'intrinsics_106.csv', 'colorIMG_149.png', 'colorIMG_48.png', 'colorIMG_29.png', 'intrinsics_84.csv', 'colorIMG_94.png', 'depth_96.csv', 'colorIMG_198.json', 'colorIMG_140.png', 'colorIMG_33.json', 'intrinsics_170.csv', 'colorIMG_82.json', 'depth_94.csv', 'intrinsics_151.csv', 'intrinsics_92.csv', 'intrinsics_24.csv', 'depth_118.csv', 'intrinsics_100.csv', 'depth_33.csv', 'colorIMG_51.json', 'intrinsics_183.csv', 'colorIMG_181.json', 'depth_126.csv', 'intrinsics_35.csv', 'depth_64.csv', 'colorIMG_87.png', 'colorIMG_11.png', 'depth_16.csv', 'depth_194.csv', 'colorIMG_42.png', 'colorIMG_106.json', 'intrinsics_155.csv', 'depth_189.csv', 'colorIMG_117.png', 'colorIMG_124.png', 'intrinsics_89.csv', 'intrinsics_195.csv', 'intrinsics_189.csv', 'colorIMG_95.png', 'intrinsics_199.csv', 'colorIMG_13.png', 'colorIMG_201.json', 'depth_19.csv', 'colorIMG_169.png', 'colorIMG_113.json', 'intrinsics_128.csv', 'depth_142.csv', 'colorIMG_102.png', 'colorIMG_65.json', 'depth_154.csv', 'depth_25.csv', 'intrinsics_58.csv', 'colorIMG_136.png', 'colorIMG_46.json', 'colorIMG_121.png', 'colorIMG_144.json', 'depth_56.csv', 'intrinsics_54.csv', 'colorIMG_98.png', 'colorIMG_30.json', 'depth_3.csv', 'colorIMG_34.png', 'colorIMG_25.png', 'colorIMG_47.json', 'intrinsics_80.csv', 'depth_30.csv', 'colorIMG_90.png', 'colorIMG_72.png', 'intrinsics_72.csv', 'colorIMG_58.png', 'depth_180.csv', 'colorIMG_110.png', 'colorIMG_183.png', 'depth_5.csv', 'colorIMG_97.json', 'colorIMG_142.png', 'colorIMG_49.json', 'intrinsics_17.csv', 'colorIMG_13.json', 'colorIMG_107.png', 'depth_147.csv', 'colorIMG_75.json', 'colorIMG_83.json', 'intrinsics_119.csv', 'colorIMG_142.json', 'depth_57.csv', 'intrinsics_69.csv', 'depth_143.csv', 'depth_156.csv', 'depth_2.csv', 'depth_119.csv', 'intrinsics_53.csv', 'colorIMG_19.png', 'colorIMG_2.png', 'intrinsics_68.csv', 'colorIMG_115.png', 'colorIMG_24.png', 'colorIMG_190.json', 'colorIMG_58.json', 'intrinsics_4.csv', 'depth_175.csv', 'depth_27.csv', 'colorIMG_66.png', 'colorIMG_99.json', 'depth_116.csv', 'depth_182.csv', 'intrinsics_182.csv', 'intrinsics_200.csv', 'colorIMG_188.json', 'depth_23.csv', 'depth_122.csv', 'colorIMG_186.png', 'intrinsics_51.csv', 'colorIMG_36.json', 'colorIMG_169.json', 'colorIMG_94.json', 'colorIMG_109.json', 'intrinsics_193.csv', 'colorIMG_111.png', 'depth_111.csv', 'colorIMG_120.json', 'intrinsics_26.csv', 'colorIMG_190.png', 'intrinsics_186.csv', 'intrinsics_154.csv', 'depth_24.csv', 'colorIMG_84.png', 'intrinsics_21.csv', 'intrinsics_141.csv', 'colorIMG_36.png', 'depth_135.csv', 'colorIMG_68.json', 'intrinsics_118.csv', 'colorIMG_55.json', 'depth_183.csv', 'colorIMG_14.png', 'colorIMG_69.png', 'colorIMG_132.json', 'colorIMG_165.json', 'colorIMG_173.png', 'depth_136.csv', 'colorIMG_150.json', 'colorIMG_125.json', 'depth_107.csv', 'depth_92.csv', 'depth_146.csv', 'depth_162.csv', 'intrinsics_61.csv', 'depth_125.csv', 'colorIMG_135.json', 'intrinsics_149.csv', 'colorIMG_159.json', 'intrinsics_18.csv', 'intrinsics_59.csv', 'intrinsics_175.csv', 'colorIMG_139.json', 'colorIMG_194.json', 'colorIMG_96.json', 'depth_121.csv', 'colorIMG_170.png', 'colorIMG_5.png', 'depth_173.csv', 'colorIMG_199.png', 'colorIMG_124.json', 'intrinsics_161.csv', 'colorIMG_115.json', 'depth_98.csv', 'depth_55.csv', 'colorIMG_143.png', 'colorIMG_146.json', 'colorIMG_52.png', 'depth_197.csv', 'colorIMG_148.png', 'colorIMG_48.json', 'colorIMG_92.png', 'colorIMG_52.json', 'depth_35.csv', 'depth_49.csv', 'colorIMG_86.png', 'colorIMG_90.json', 'intrinsics_19.csv', 'intrinsics_180.csv', 'depth_120.csv', 'intrinsics_140.csv', 'intrinsics_113.csv', 'intrinsics_31.csv', 'intrinsics_34.csv', 'colorIMG_14.json', 'colorIMG_166.json', 'depth_172.csv', 'depth_169.csv', 'intrinsics_137.csv', 'intrinsics_38.csv', 'intrinsics_88.csv', 'colorIMG_123.json', 'colorIMG_23.json', 'colorIMG_180.png', 'colorIMG_97.png', 'colorIMG_81.json', 'intrinsics_86.csv', 'intrinsics_168.csv', 'depth_165.csv', 'colorIMG_131.png', 'intrinsics_166.csv', 'depth_179.csv', 'intrinsics_0.csv', 'colorIMG_149.json', 'depth_188.csv', 'colorIMG_152.png', 'colorIMG_151.png', 'depth_47.csv', 'intrinsics_90.csv', 'colorIMG_167.png', 'depth_86.csv', 'colorIMG_128.png', 'colorIMG_54.json', 'intrinsics_49.csv', 'colorIMG_4.png', 'colorIMG_2.json', 'colorIMG_57.json', 'depth_198.csv', 'intrinsics_176.csv', 'intrinsics_27.csv', 'intrinsics_172.csv', 'depth_145.csv', 'colorIMG_128.json', 'colorIMG_10.json', 'colorIMG_28.json', 'colorIMG_174.png', 'depth_132.csv', 'intrinsics_162.csv', 'colorIMG_109.png', 'depth_75.csv', 'colorIMG_35.png', 'colorIMG_32.png', 'colorIMG_67.json', 'colorIMG_118.png', 'colorIMG_157.png', 'intrinsics_105.csv', 'colorIMG_62.png', 'depth_178.csv', 'depth_17.csv', 'intrinsics_142.csv', 'colorIMG_182.png', 'intrinsics_163.csv', 'depth_200.csv', 'colorIMG_88.png', 'colorIMG_12.png', 'colorIMG_46.png', 'colorIMG_140.json', 'intrinsics_2.csv', 'colorIMG_21.json', 'depth_52.csv', 'depth_18.csv', 'depth_89.csv', 'colorIMG_174.json', 'depth_11.csv', 'colorIMG_76.png', 'intrinsics_62.csv', 'colorIMG_105.png', 'depth_83.csv', 'colorIMG_76.json', 'depth_59.csv', 'intrinsics_181.csv', 'colorIMG_101.png', 'colorIMG_112.json', 'intrinsics_41.csv', 'depth_28.csv', 'depth_112.csv', 'colorIMG_50.png', 'colorIMG_89.json', 'depth_128.csv', 'intrinsics_134.csv', 'colorIMG_38.png', 'colorIMG_96.png', 'colorIMG_85.png', 'colorIMG_137.png', 'intrinsics_14.csv', 'colorIMG_134.json', 'colorIMG_3.json', 'colorIMG_77.png', 'depth_15.csv', 'intrinsics_192.csv', 'colorIMG_137.json', 'colorIMG_75.png', 'depth_150.csv', 'colorIMG_168.png', 'colorIMG_34.json', 'intrinsics_63.csv', 'intrinsics_169.csv', 'depth_123.csv', 'depth_22.csv', 'intrinsics_174.csv', 'intrinsics_115.csv', 'depth_170.csv', 'colorIMG_160.png', 'colorIMG_53.json', 'colorIMG_56.png', 'intrinsics_94.csv', 'colorIMG_37.png', 'depth_134.csv', 'intrinsics_179.csv', 'colorIMG_153.png', 'depth_73.csv', 'colorIMG_81.png', 'depth_76.csv', 'colorIMG_185.png', 'intrinsics_130.csv', 'colorIMG_200.json', 'intrinsics_194.csv', 'intrinsics_97.csv', 'colorIMG_187.png', 'depth_109.csv', 'intrinsics_50.csv', 'intrinsics_11.csv', 'intrinsics_16.csv', 'colorIMG_87.json', 'intrinsics_198.csv', 'colorIMG_62.json', 'depth_185.csv', 'colorIMG_139.png', 'colorIMG_74.json', 'depth_60.csv', 'colorIMG_37.json', 'intrinsics_135.csv', 'intrinsics_103.csv', 'colorIMG_104.png', 'colorIMG_166.png', 'depth_108.csv', 'intrinsics_147.csv', 'colorIMG_176.png', 'depth_181.csv', 'intrinsics_201.csv', 'colorIMG_20.json', 'depth_158.csv', 'depth_159.csv', 'intrinsics_9.csv', 'colorIMG_161.png', 'intrinsics_185.csv', 'colorIMG_133.png', 'colorIMG_165.png', 'intrinsics_77.csv', 'colorIMG_161.json', 'depth_71.csv', 'colorIMG_77.json', 'intrinsics_131.csv', 'colorIMG_18.json', 'colorIMG_143.json', 'intrinsics_125.csv', 'colorIMG_155.png', 'depth_95.csv', 'colorIMG_131.json', 'depth_104.csv', 'depth_151.csv', 'colorIMG_193.json', 'intrinsics_76.csv', 'colorIMG_9.png']\n"
     ]
    }
   ],
   "source": [
    "# Path the the folder containing the image annotations\n",
    "path = '../Strojer_Images/Simple Dataset'\n",
    "\n",
    "print(os.listdir(path))\n",
    "\n",
    "# Create and open csv file for storing all annotations\n",
    "with open('annotation.csv', 'w', newline='') as csv_file:\n",
    "    file_writer = csv.writer(csv_file, delimiter=',', quotechar='|', quoting=csv.QUOTE_MINIMAL)\n",
    "    for (dir_path, dir_names, file_names) in walk(path):\n",
    "        for file in file_names:\n",
    "            if file[-5:] == '.json':\n",
    "                file_name = file   # \"test_json.json\"\n",
    "                with open(path + \"/\" + file_name) as json_file:\n",
    "                    data = json.load(json_file)\n",
    "                    image_name = data['imagePath']\n",
    "\n",
    "                    # check if image contains annotations.\n",
    "                    if len(data['shapes']) != 0:\n",
    "                        for annotation in data['shapes']:\n",
    "                            rect = cv.boundingRect(np.float32(annotation['points']))\n",
    "                            P1x = str(rect[0])\n",
    "                            P1y = str(rect[1])\n",
    "                            P2x = str(rect[0] + rect[2])\n",
    "                            P2y = str(rect[1] + rect[3])\n",
    "                            class_name = annotation['label']\n",
    "                            file_writer.writerow([path + \"/\" + image_name, P1x, P1y, P2x, P2y, class_name])\n",
    "                    else:\n",
    "                        file_writer.writerow([path + \"/\" + image_name + \",,,,,\"])\n"
   ]
  },
  {
   "cell_type": "code",
   "execution_count": null,
   "metadata": {},
   "outputs": [],
   "source": []
  }
 ],
 "metadata": {
  "kernelspec": {
   "display_name": "Python 3",
   "language": "python",
   "name": "python3"
  },
  "language_info": {
   "codemirror_mode": {
    "name": "ipython",
    "version": 3
   },
   "file_extension": ".py",
   "mimetype": "text/x-python",
   "name": "python",
   "nbconvert_exporter": "python",
   "pygments_lexer": "ipython3",
   "version": "3.7.5"
  }
 },
 "nbformat": 4,
 "nbformat_minor": 4
}
